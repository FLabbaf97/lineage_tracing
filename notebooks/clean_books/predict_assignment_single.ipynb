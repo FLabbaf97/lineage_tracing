{
 "cells": [
  {
   "cell_type": "code",
   "execution_count": 3,
   "metadata": {},
   "outputs": [
    {
     "name": "stdout",
     "output_type": "stream",
     "text": [
      "The autoreload extension is already loaded. To reload it, use:\n",
      "  %reload_ext autoreload\n"
     ]
    }
   ],
   "source": [
    "%load_ext autoreload\n",
    "%autoreload 2"
   ]
  },
  {
   "cell_type": "code",
   "execution_count": 4,
   "metadata": {},
   "outputs": [],
   "source": [
    "import pickle\n",
    "import json\n",
    "import seaborn as sns\n",
    "import matplotlib.transforms as mtransforms\n",
    "from bread import vis\n",
    "import itertools\n",
    "import matplotlib.pyplot as plt\n",
    "import numpy as np\n",
    "import pandas as pd\n",
    "from bread.algo import tracking\n",
    "from bread.data import *\n",
    "from sklearn.metrics import confusion_matrix\n",
    "from pathlib import Path\n",
    "from collections import defaultdict\n",
    "from tqdm import tqdm\n",
    "from glob import glob\n",
    "import sys\n",
    "import os.path\n",
    "import datetime, json\n",
    "from bread.algo.tracking import AssignmentDataset, GNNTracker, AssignmentClassifier, GraphLoader, accuracy_assignment, f1_assignment\n",
    "from bread.data import *\n",
    "from bread.algo.tracking import AssignmentDataset, GNNTracker, AssignmentClassifier, GraphLoader, accuracy_assignment, f1_assignment\n",
    "\n",
    "from glob import glob\n",
    "from pathlib import Path\n",
    "import datetime, json, argparse\n",
    "import torch, os\n",
    "from pprint import pprint\n",
    "from sklearn.metrics import confusion_matrix\n",
    "\n",
    "\n",
    "from skorch.dataset import ValidSplit\n",
    "from skorch.callbacks import LRScheduler, Checkpoint, ProgressBar, EpochScoring, WandbLogger, EarlyStopping\n",
    "\n",
    "from importlib import import_module\n",
    "\n",
    "import tqdm\n",
    "\n"
   ]
  },
  {
   "cell_type": "markdown",
   "metadata": {},
   "source": [
    "## Load input assignment data"
   ]
  },
  {
   "cell_type": "code",
   "execution_count": 5,
   "metadata": {},
   "outputs": [
    {
     "name": "stdout",
     "output_type": "stream",
     "text": [
      "/mlodata1/hokarami/fari/bread/data/generated/test_tracking/ass_graphs_original/colony005_segmentation__assgraph__dt_003__113_to_116.pt\n"
     ]
    }
   ],
   "source": [
    "# /mlodata1/hokarami/fari/bread/data/generated/test_tracking/ass_graphs_original/colony003_segmentation__assgraph__dt_004__001_to_005.pt\n",
    "assignment_graph_dir = Path(\"/mlodata1/hokarami/fari/bread/data/generated/test_tracking/ass_graphs_original\")\n",
    "# for colony000_segmentation__assgraph__dt_001__000_to_001.pt (example)\n",
    "colony_name = \"colony005\"\n",
    "time_diff = 3\n",
    "first_frame = 113\n",
    "next_frame = first_frame + time_diff\n",
    "\n",
    "ass_graph_path = assignment_graph_dir/f'{colony_name}_segmentation__assgraph__dt_{time_diff:03d}__{first_frame:03d}_to_{next_frame:03d}.pt'\n",
    "print(ass_graph_path)"
   ]
  },
  {
   "cell_type": "markdown",
   "metadata": {},
   "source": [
    "## Load the saved model"
   ]
  },
  {
   "cell_type": "code",
   "execution_count": 6,
   "metadata": {},
   "outputs": [
    {
     "data": {
      "text/plain": [
       "GNNTracker(\n",
       "  (node_encoder): MLP(12, 120, 120, 120, 120)\n",
       "  (edge_encoder): MLP(10, 120, 120, 120, 120)\n",
       "  (layers): ModuleList(\n",
       "    (0-4): 5 x DeepGCNLayer(block=res+)\n",
       "  )\n",
       "  (out): MLP(120, 60, 30, 1)\n",
       ")"
      ]
     },
     "execution_count": 6,
     "metadata": {},
     "output_type": "execute_result"
    }
   ],
   "source": [
    "model_folder = '/mlodata1/hokarami/fari/bread/best_models/27-10-trained-on-all'\n",
    "model_dir = Path(model_folder)\n",
    "algo = 'hungarian'\n",
    "resultdir = Path(f'{model_dir}/results/{algo}_{datetime.datetime.now().strftime(\"%Y-%m-%d %H:%M:%S\")}')\n",
    "\n",
    "with open(model_dir / 'hyperparams.json') as file:\n",
    "    hparams = json.load(file)\n",
    "\n",
    "net = AssignmentClassifier(\n",
    "    GNNTracker,\n",
    "    module__num_node_attr=hparams['num_node_attr'],\n",
    "    module__num_edge_attr=hparams['num_edge_attr'],\n",
    "    module__dropout_rate=hparams['dropout_rate'],\n",
    "    module__encoder_hidden_channels=hparams['encoder_hidden_channels'],\n",
    "    module__encoder_num_layers=hparams['encoder_num_layers'],\n",
    "    module__conv_hidden_channels=hparams['conv_hidden_channels'],\n",
    "    module__conv_num_layers=hparams['conv_num_layers'],\n",
    "    module__num_classes=1,\n",
    "    iterator_train=GraphLoader,\n",
    "    iterator_valid=GraphLoader,\n",
    "    criterion=torch.nn.BCEWithLogitsLoss,\n",
    ").initialize()\n",
    "net.load_params(model_dir / 'params.pt')\n",
    "net.module_.train(False) "
   ]
  },
  {
   "cell_type": "code",
   "execution_count": 7,
   "metadata": {},
   "outputs": [
    {
     "ename": "NameError",
     "evalue": "name 'scores_copy' is not defined",
     "output_type": "error",
     "traceback": [
      "\u001b[0;31m---------------------------------------------------------------------------\u001b[0m",
      "\u001b[0;31mNameError\u001b[0m                                 Traceback (most recent call last)",
      "\u001b[1;32m/mlodata1/hokarami/fari/bread/notebooks/clean_books/predict_assignment_single.ipynb Cell 7\u001b[0m line \u001b[0;36m7\n\u001b[1;32m      <a href='vscode-notebook-cell://ssh-remote%2Bcluster_hojjat/mlodata1/hokarami/fari/bread/notebooks/clean_books/predict_assignment_single.ipynb#W6sdnNjb2RlLXJlbW90ZQ%3D%3D?line=4'>5</a>\u001b[0m y_raw\n\u001b[1;32m      <a href='vscode-notebook-cell://ssh-remote%2Bcluster_hojjat/mlodata1/hokarami/fari/bread/notebooks/clean_books/predict_assignment_single.ipynb#W6sdnNjb2RlLXJlbW90ZQ%3D%3D?line=5'>6</a>\u001b[0m \u001b[39m# Calculate the percentage of assignment scores that are higher for each assigned cell\u001b[39;00m\n\u001b[0;32m----> <a href='vscode-notebook-cell://ssh-remote%2Bcluster_hojjat/mlodata1/hokarami/fari/bread/notebooks/clean_books/predict_assignment_single.ipynb#W6sdnNjb2RlLXJlbW90ZQ%3D%3D?line=6'>7</a>\u001b[0m comparison_matrix \u001b[39m=\u001b[39m scores_copy \u001b[39m>\u001b[39m scores[np\u001b[39m.\u001b[39mnewaxis, col_ind, :]\n\u001b[1;32m      <a href='vscode-notebook-cell://ssh-remote%2Bcluster_hojjat/mlodata1/hokarami/fari/bread/notebooks/clean_books/predict_assignment_single.ipynb#W6sdnNjb2RlLXJlbW90ZQ%3D%3D?line=7'>8</a>\u001b[0m percentage_higher_scores \u001b[39m=\u001b[39m (np\u001b[39m.\u001b[39msum(comparison_matrix, axis\u001b[39m=\u001b[39m\u001b[39m0\u001b[39m) \u001b[39m/\u001b[39m (scores\u001b[39m.\u001b[39mshape[\u001b[39m0\u001b[39m] \u001b[39m-\u001b[39m \u001b[39m1\u001b[39m)) \u001b[39m*\u001b[39m \u001b[39m100\u001b[39m\n",
      "\u001b[0;31mNameError\u001b[0m: name 'scores_copy' is not defined"
     ]
    }
   ],
   "source": [
    "graph = torch.load(ass_graph_path)\n",
    "yhat = net.predict_assignment(graph, algo).flatten()\n",
    "y = graph.y.squeeze().cpu().numpy()\n",
    "y_raw = net.predict_raw(graph)\n",
    "y_raw\n",
    "# Calculate the percentage of assignment scores that are higher for each assigned cell\n",
    "comparison_matrix = scores_copy > scores[np.newaxis, col_ind, :]\n",
    "percentage_higher_scores = (np.sum(comparison_matrix, axis=0) / (scores.shape[0] - 1)) * 100\n"
   ]
  },
  {
   "cell_type": "code",
   "execution_count": null,
   "metadata": {},
   "outputs": [],
   "source": []
  }
 ],
 "metadata": {
  "kernelspec": {
   "display_name": "paper2022",
   "language": "python",
   "name": "python3"
  },
  "language_info": {
   "codemirror_mode": {
    "name": "ipython",
    "version": 3
   },
   "file_extension": ".py",
   "mimetype": "text/x-python",
   "name": "python",
   "nbconvert_exporter": "python",
   "pygments_lexer": "ipython3",
   "version": "3.9.7"
  }
 },
 "nbformat": 4,
 "nbformat_minor": 2
}

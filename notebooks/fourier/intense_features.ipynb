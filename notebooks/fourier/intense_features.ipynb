{
 "cells": [
  {
   "cell_type": "code",
   "execution_count": 1,
   "metadata": {},
   "outputs": [],
   "source": [
    "import pickle\n",
    "import json\n",
    "# import seaborn as sns\n",
    "import matplotlib.transforms as mtransforms\n",
    "from bread import vis\n",
    "import itertools\n",
    "import matplotlib.pyplot as plt\n",
    "import numpy as np\n",
    "import pandas as pd\n",
    "from bread.algo import tracking\n",
    "from bread.data import *\n",
    "from sklearn.metrics import confusion_matrix\n",
    "from pathlib import Path\n",
    "from collections import defaultdict\n",
    "from tqdm import tqdm\n",
    "from glob import glob\n",
    "import sys\n",
    "import os.path\n",
    "sys.path.append('../../src/libraries')  # import YeaZ"
   ]
  },
  {
   "cell_type": "code",
   "execution_count": 2,
   "metadata": {},
   "outputs": [],
   "source": [
    "seg_0 = SegmentationFile.from_h5(\n",
    "    '../../data/segmentations/colony000_segmentation.h5').get_segmentation(\"FOV0\")\n",
    "microscopy_0 = Microscopy.from_tiff(\n",
    "    '../../data/microscopies/colony000_microscopy.tif')\n",
    "feat_0 = Features(seg_0, nn_threshold=12, scale_length=1, scale_time=1)\n",
    "\n",
    "seg_external = SegmentationFile.from_h5(\n",
    "    '../../data/segmentations/colony006_segmentation.h5').get_segmentation(\"FOV0\")\n",
    "microscopy_external = Microscopy.from_tiff(\n",
    "    '../../data/microscopies/colony006_microscopy.tif')\n",
    "feat_external = Features(seg_external, nn_threshold=12, scale_length=1, scale_time=1)\n",
    "\n",
    "seg_3 = SegmentationFile.from_h5(\n",
    "    '../../data/segmentations/colony003_segmentation.h5').get_segmentation(\"FOV0\")\n",
    "microscopy_3 = Microscopy.from_tiff(\n",
    "    '../../data/microscopies/colony003_microscopy.tif')\n",
    "feat_3 = Features(seg_3, nn_threshold=12, scale_length=1, scale_time=1)\n",
    "seg_5 = SegmentationFile.from_h5(\n",
    "    '../../data/segmentations/colony005_segmentation.h5').get_segmentation(\"FOV0\")\n",
    "microscopy_5 = Microscopy.from_tiff(\n",
    "    '../../data/microscopies/colony005_microscopy.tif')\n",
    "feat_5 = Features(seg_5, nn_threshold=12, scale_length=1, scale_time=1)\n",
    "seg_1 = SegmentationFile.from_h5(\n",
    "    '../../data/segmentations/colony001_segmentation.h5').get_segmentation(\"FOV0\")\n",
    "microscopy_1 = Microscopy.from_tiff(\n",
    "    '../../data/microscopies/colony001_microscopy.tif')\n",
    "feat_1 = Features(seg_1, nn_threshold=12, scale_length=1, scale_time=1)\n",
    "\n",
    "seg_2 = SegmentationFile.from_h5(\n",
    "    '../../data/segmentations/colony002_segmentation.h5').get_segmentation(\"FOV0\")\n",
    "microscopy_2 = Microscopy.from_tiff(\n",
    "    '../../data/microscopies/colony002_microscopy.tif')\n",
    "feat_2 = Features(seg_2, nn_threshold=12, scale_length=1, scale_time=1)\n",
    "\n",
    "seg_4 = SegmentationFile.from_h5(\n",
    "    '../../data/segmentations/colony004_segmentation.h5').get_segmentation(\"FOV0\")\n",
    "microscopy_4 = Microscopy.from_tiff(\n",
    "    '../../data/microscopies/colony004_microscopy.tif')\n",
    "feat_4 = Features(seg_4, nn_threshold=12, scale_length=1, scale_time=1)\n",
    "\n"
   ]
  },
  {
   "cell_type": "code",
   "execution_count": null,
   "metadata": {},
   "outputs": [],
   "source": []
  }
 ],
 "metadata": {
  "kernelspec": {
   "display_name": "paper2022",
   "language": "python",
   "name": "python3"
  },
  "language_info": {
   "codemirror_mode": {
    "name": "ipython",
    "version": 3
   },
   "file_extension": ".py",
   "mimetype": "text/x-python",
   "name": "python",
   "nbconvert_exporter": "python",
   "pygments_lexer": "ipython3",
   "version": "3.9.7"
  }
 },
 "nbformat": 4,
 "nbformat_minor": 2
}

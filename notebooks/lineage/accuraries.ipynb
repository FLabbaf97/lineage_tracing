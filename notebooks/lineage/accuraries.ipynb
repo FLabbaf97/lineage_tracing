{
 "cells": [
  {
   "cell_type": "code",
   "execution_count": 4,
   "metadata": {},
   "outputs": [],
   "source": [
    "from bread.algo.lineage import LineageGuesserBudLum, LineageGuesserExpansionSpeed, LineageGuesserMinDistance, LineageGuesserMinTheta, accuracy, NotEnoughFramesException\n",
    "from bread.algo.lineage.nn import LineageGuesserDeepNN\n",
    "from bread.data import Lineage, Segmentation, Microscopy, BreadWarning"
   ]
  },
  {
   "cell_type": "code",
   "execution_count": 8,
   "metadata": {},
   "outputs": [],
   "source": [
    "from utils import Timer\n",
    "import multiprocessing\n",
    "import warnings\n",
    "import pandas"
   ]
  },
  {
   "cell_type": "code",
   "execution_count": 6,
   "metadata": {},
   "outputs": [
    {
     "name": "stdout",
     "output_type": "stream",
     "text": [
      "\"load data #5\" finished in 0.88s\n",
      "\"load data #3\" finished in 1.45s\n",
      "\"load data #4\" finished in 1.61s\n",
      "\"load data #1\" finished in 1.67s\n"
     ]
    },
    {
     "name": "stderr",
     "output_type": "stream",
     "text": [
      "/run/media/nicole/nicole_data/Documents/2018 EPFL/PH MA 2/TP4/bread-git/bread/src/bread/algo/lineage/_lineage.py:204: BreadWarning: cell #3 does not have nearest neighbours with a distance less than 8, and flexible_threshold is False.\n",
      "  warnings.warn(BreadWarning(f'cell #{nearest_neighbours_of} does not have nearest neighbours with a distance less than {self.nn_threshold}, and flexible_threshold is {self.flexible_nn_threshold}.'))\n",
      "/run/media/nicole/nicole_data/Documents/2018 EPFL/PH MA 2/TP4/bread-git/bread/src/bread/algo/lineage/_lineage.py:264: LineageWarning: Unable to determine parent, got exception NoCandidateParentException('No candidate parents have been found for in frame #19.'). Computation for frame #19, bud #3 skipped.\n",
      "  warnings.warn(LineageWarning(f'Unable to determine parent, got exception {repr(e)}. Computation for frame #{time_id_}, bud #{bud_id} skipped.'))\n",
      "/run/media/nicole/nicole_data/Documents/2018 EPFL/PH MA 2/TP4/bread-git/bread/src/bread/algo/lineage/_lineage.py:264: LineageWarning: Unable to determine parent, got exception NoCandidateParentException('No candidate parents have been found for in frame #20.'). Computation for frame #20, bud #3 skipped.\n",
      "  warnings.warn(LineageWarning(f'Unable to determine parent, got exception {repr(e)}. Computation for frame #{time_id_}, bud #{bud_id} skipped.'))\n",
      "/run/media/nicole/nicole_data/Documents/2018 EPFL/PH MA 2/TP4/bread-git/bread/src/bread/algo/lineage/_lineage.py:252: NotEnoughFramesWarning: Not enough frames in the movie (bud #38 at frame #178), requested 5, but only 3 remaining.\n",
      "  warnings.warn(NotEnoughFramesWarning(bud_id, time_id, self.num_frames, len(frame_range)))\n"
     ]
    },
    {
     "name": "stdout",
     "output_type": "stream",
     "text": [
      "\"guess lineage #5 (BudLum)\" finished in 1.93s\n",
      "\"load data #2\" finished in 4.36s\n"
     ]
    },
    {
     "name": "stderr",
     "output_type": "stream",
     "text": [
      "/run/media/nicole/nicole_data/Documents/2018 EPFL/PH MA 2/TP4/bread-git/bread/src/bread/algo/lineage/_lineage.py:516: NotEnoughFramesWarning: Not enough frames in the movie (bud #38 at frame #178), requested 5, but only 3 remaining.\n",
      "  warnings.warn(NotEnoughFramesWarning(bud_id, time_id, self.num_frames, len(frame_range)))\n"
     ]
    },
    {
     "name": "stdout",
     "output_type": "stream",
     "text": [
      "\"guess lineage #5 (ExpSpeed)\" finished in 1.72s\n"
     ]
    },
    {
     "name": "stderr",
     "output_type": "stream",
     "text": [
      "/run/media/nicole/nicole_data/Documents/2018 EPFL/PH MA 2/TP4/bread-git/bread/src/bread/algo/lineage/_lineage.py:264: LineageWarning: Unable to determine parent, got exception CellMissingException('Unable to find cell_id=40 at time_id=124 in the segmentation.'). Computation for frame #124, bud #40 skipped.\n",
      "  warnings.warn(LineageWarning(f'Unable to determine parent, got exception {repr(e)}. Computation for frame #{time_id_}, bud #{bud_id} skipped.'))\n",
      "/run/media/nicole/nicole_data/Documents/2018 EPFL/PH MA 2/TP4/bread-git/bread/src/bread/algo/lineage/_lineage.py:264: LineageWarning: Unable to determine parent, got exception CellMissingException('Unable to find cell_id=40 at time_id=125 in the segmentation.'). Computation for frame #125, bud #40 skipped.\n",
      "  warnings.warn(LineageWarning(f'Unable to determine parent, got exception {repr(e)}. Computation for frame #{time_id_}, bud #{bud_id} skipped.'))\n",
      "/run/media/nicole/nicole_data/Documents/2018 EPFL/PH MA 2/TP4/bread-git/bread/src/bread/algo/lineage/_lineage.py:264: LineageWarning: Unable to determine parent, got exception CellMissingException('Unable to find cell_id=40 at time_id=126 in the segmentation.'). Computation for frame #126, bud #40 skipped.\n",
      "  warnings.warn(LineageWarning(f'Unable to determine parent, got exception {repr(e)}. Computation for frame #{time_id_}, bud #{bud_id} skipped.'))\n",
      "/run/media/nicole/nicole_data/Documents/2018 EPFL/PH MA 2/TP4/bread-git/bread/src/bread/algo/lineage/_lineage.py:264: LineageWarning: Unable to determine parent, got exception CellMissingException('Unable to find cell_id=40 at time_id=127 in the segmentation.'). Computation for frame #127, bud #40 skipped.\n",
      "  warnings.warn(LineageWarning(f'Unable to determine parent, got exception {repr(e)}. Computation for frame #{time_id_}, bud #{bud_id} skipped.'))\n"
     ]
    },
    {
     "name": "stdout",
     "output_type": "stream",
     "text": [
      "\"guess lineage #5 (MinTheta)\" finished in 2.87s\n",
      "\"guess lineage #5 (MinDistance)\" finished in 1.00s\n"
     ]
    },
    {
     "name": "stderr",
     "output_type": "stream",
     "text": [
      "/run/media/nicole/nicole_data/Documents/2018 EPFL/PH MA 2/TP4/bread-git/bread/src/bread/algo/lineage/_lineage.py:264: LineageWarning: Unable to determine parent, got exception NoCandidateParentException('No candidate parents have been found for in frame #167.'). Computation for frame #167, bud #77 skipped.\n",
      "  warnings.warn(LineageWarning(f'Unable to determine parent, got exception {repr(e)}. Computation for frame #{time_id_}, bud #{bud_id} skipped.'))\n",
      "/run/media/nicole/nicole_data/Documents/2018 EPFL/PH MA 2/TP4/bread-git/bread/src/bread/algo/lineage/_lineage.py:264: LineageWarning: Unable to determine parent, got exception NoCandidateParentException('No candidate parents have been found for in frame #168.'). Computation for frame #168, bud #77 skipped.\n",
      "  warnings.warn(LineageWarning(f'Unable to determine parent, got exception {repr(e)}. Computation for frame #{time_id_}, bud #{bud_id} skipped.'))\n",
      "/run/media/nicole/nicole_data/Documents/2018 EPFL/PH MA 2/TP4/bread-git/bread/src/bread/algo/lineage/_lineage.py:264: LineageWarning: Unable to determine parent, got exception NoCandidateParentException('No candidate parents have been found for in frame #169.'). Computation for frame #169, bud #77 skipped.\n",
      "  warnings.warn(LineageWarning(f'Unable to determine parent, got exception {repr(e)}. Computation for frame #{time_id_}, bud #{bud_id} skipped.'))\n",
      "/run/media/nicole/nicole_data/Documents/2018 EPFL/PH MA 2/TP4/bread-git/bread/src/bread/algo/lineage/_lineage.py:264: LineageWarning: Unable to determine parent, got exception NoCandidateParentException('No candidate parents have been found for in frame #170.'). Computation for frame #170, bud #77 skipped.\n",
      "  warnings.warn(LineageWarning(f'Unable to determine parent, got exception {repr(e)}. Computation for frame #{time_id_}, bud #{bud_id} skipped.'))\n",
      "/run/media/nicole/nicole_data/Documents/2018 EPFL/PH MA 2/TP4/bread-git/bread/src/bread/algo/lineage/_lineage.py:264: LineageWarning: Unable to determine parent, got exception NoCandidateParentException('No candidate parents have been found for in frame #171.'). Computation for frame #171, bud #77 skipped.\n",
      "  warnings.warn(LineageWarning(f'Unable to determine parent, got exception {repr(e)}. Computation for frame #{time_id_}, bud #{bud_id} skipped.'))\n",
      "/run/media/nicole/nicole_data/Documents/2018 EPFL/PH MA 2/TP4/bread-git/bread/src/bread/algo/lineage/_lineage.py:252: NotEnoughFramesWarning: Not enough frames in the movie (bud #80 at frame #178), requested 5, but only 3 remaining.\n",
      "  warnings.warn(NotEnoughFramesWarning(bud_id, time_id, self.num_frames, len(frame_range)))\n",
      "/run/media/nicole/nicole_data/Documents/2018 EPFL/PH MA 2/TP4/bread-git/bread/src/bread/algo/lineage/_lineage.py:252: NotEnoughFramesWarning: Not enough frames in the movie (bud #81 at frame #178), requested 5, but only 3 remaining.\n",
      "  warnings.warn(NotEnoughFramesWarning(bud_id, time_id, self.num_frames, len(frame_range)))\n",
      "/run/media/nicole/nicole_data/Documents/2018 EPFL/PH MA 2/TP4/bread-git/bread/src/bread/algo/lineage/_lineage.py:252: NotEnoughFramesWarning: Not enough frames in the movie (bud #82 at frame #179), requested 5, but only 2 remaining.\n",
      "  warnings.warn(NotEnoughFramesWarning(bud_id, time_id, self.num_frames, len(frame_range)))\n"
     ]
    },
    {
     "name": "stdout",
     "output_type": "stream",
     "text": [
      "\"guess lineage #1 (BudLum)\" finished in 8.24s\n"
     ]
    },
    {
     "name": "stderr",
     "output_type": "stream",
     "text": [
      "/run/media/nicole/nicole_data/Documents/2018 EPFL/PH MA 2/TP4/bread-git/bread/src/bread/algo/lineage/_lineage.py:252: NotEnoughFramesWarning: Not enough frames in the movie (bud #89 at frame #177), requested 5, but only 4 remaining.\n",
      "  warnings.warn(NotEnoughFramesWarning(bud_id, time_id, self.num_frames, len(frame_range)))\n",
      "/run/media/nicole/nicole_data/Documents/2018 EPFL/PH MA 2/TP4/bread-git/bread/src/bread/algo/lineage/_lineage.py:252: NotEnoughFramesWarning: Not enough frames in the movie (bud #90 at frame #177), requested 5, but only 4 remaining.\n",
      "  warnings.warn(NotEnoughFramesWarning(bud_id, time_id, self.num_frames, len(frame_range)))\n",
      "/run/media/nicole/nicole_data/Documents/2018 EPFL/PH MA 2/TP4/bread-git/bread/src/bread/algo/lineage/_lineage.py:252: NotEnoughFramesWarning: Not enough frames in the movie (bud #91 at frame #178), requested 5, but only 3 remaining.\n",
      "  warnings.warn(NotEnoughFramesWarning(bud_id, time_id, self.num_frames, len(frame_range)))\n"
     ]
    },
    {
     "name": "stdout",
     "output_type": "stream",
     "text": [
      "\"guess lineage #5 (NN)\" finished in 1.84s\n"
     ]
    },
    {
     "name": "stderr",
     "output_type": "stream",
     "text": [
      "/run/media/nicole/nicole_data/Documents/2018 EPFL/PH MA 2/TP4/bread-git/bread/src/bread/algo/lineage/_lineage.py:252: NotEnoughFramesWarning: Not enough frames in the movie (bud #92 at frame #178), requested 5, but only 3 remaining.\n",
      "  warnings.warn(NotEnoughFramesWarning(bud_id, time_id, self.num_frames, len(frame_range)))\n",
      "/run/media/nicole/nicole_data/Documents/2018 EPFL/PH MA 2/TP4/bread-git/bread/src/bread/algo/lineage/_lineage.py:252: NotEnoughFramesWarning: Not enough frames in the movie (bud #93 at frame #178), requested 5, but only 3 remaining.\n",
      "  warnings.warn(NotEnoughFramesWarning(bud_id, time_id, self.num_frames, len(frame_range)))\n",
      "/run/media/nicole/nicole_data/Documents/2018 EPFL/PH MA 2/TP4/bread-git/bread/src/bread/algo/lineage/_lineage.py:252: NotEnoughFramesWarning: Not enough frames in the movie (bud #94 at frame #178), requested 5, but only 3 remaining.\n",
      "  warnings.warn(NotEnoughFramesWarning(bud_id, time_id, self.num_frames, len(frame_range)))\n",
      "/run/media/nicole/nicole_data/Documents/2018 EPFL/PH MA 2/TP4/bread-git/bread/src/bread/algo/lineage/_lineage.py:252: NotEnoughFramesWarning: Not enough frames in the movie (bud #95 at frame #179), requested 5, but only 2 remaining.\n",
      "  warnings.warn(NotEnoughFramesWarning(bud_id, time_id, self.num_frames, len(frame_range)))\n",
      "/run/media/nicole/nicole_data/Documents/2018 EPFL/PH MA 2/TP4/bread-git/bread/src/bread/algo/lineage/_lineage.py:252: NotEnoughFramesWarning: Not enough frames in the movie (bud #96 at frame #180), requested 5, but only 1 remaining.\n",
      "  warnings.warn(NotEnoughFramesWarning(bud_id, time_id, self.num_frames, len(frame_range)))\n",
      "/run/media/nicole/nicole_data/Documents/2018 EPFL/PH MA 2/TP4/bread-git/bread/src/bread/algo/lineage/_lineage.py:252: NotEnoughFramesWarning: Not enough frames in the movie (bud #97 at frame #180), requested 5, but only 1 remaining.\n",
      "  warnings.warn(NotEnoughFramesWarning(bud_id, time_id, self.num_frames, len(frame_range)))\n"
     ]
    },
    {
     "name": "stdout",
     "output_type": "stream",
     "text": [
      "\"guess lineage #3 (BudLum)\" finished in 9.08s\n"
     ]
    },
    {
     "name": "stderr",
     "output_type": "stream",
     "text": [
      "/run/media/nicole/nicole_data/Documents/2018 EPFL/PH MA 2/TP4/bread-git/bread/src/bread/algo/lineage/_lineage.py:264: LineageWarning: Unable to determine parent, got exception CellMissingException('Unable to find cell_id=101 at time_id=170 in the segmentation.'). Computation for frame #170, bud #101 skipped.\n",
      "  warnings.warn(LineageWarning(f'Unable to determine parent, got exception {repr(e)}. Computation for frame #{time_id_}, bud #{bud_id} skipped.'))\n",
      "/run/media/nicole/nicole_data/Documents/2018 EPFL/PH MA 2/TP4/bread-git/bread/src/bread/algo/lineage/_lineage.py:264: LineageWarning: Unable to determine parent, got exception CellMissingException('Unable to find cell_id=101 at time_id=171 in the segmentation.'). Computation for frame #171, bud #101 skipped.\n",
      "  warnings.warn(LineageWarning(f'Unable to determine parent, got exception {repr(e)}. Computation for frame #{time_id_}, bud #{bud_id} skipped.'))\n",
      "/run/media/nicole/nicole_data/Documents/2018 EPFL/PH MA 2/TP4/bread-git/bread/src/bread/algo/lineage/_lineage.py:264: LineageWarning: Unable to determine parent, got exception CellMissingException('Unable to find cell_id=101 at time_id=172 in the segmentation.'). Computation for frame #172, bud #101 skipped.\n",
      "  warnings.warn(LineageWarning(f'Unable to determine parent, got exception {repr(e)}. Computation for frame #{time_id_}, bud #{bud_id} skipped.'))\n",
      "/run/media/nicole/nicole_data/Documents/2018 EPFL/PH MA 2/TP4/bread-git/bread/src/bread/algo/lineage/_lineage.py:264: LineageWarning: Unable to determine parent, got exception CellMissingException('Unable to find cell_id=101 at time_id=173 in the segmentation.'). Computation for frame #173, bud #101 skipped.\n",
      "  warnings.warn(LineageWarning(f'Unable to determine parent, got exception {repr(e)}. Computation for frame #{time_id_}, bud #{bud_id} skipped.'))\n",
      "/run/media/nicole/nicole_data/Documents/2018 EPFL/PH MA 2/TP4/bread-git/bread/src/bread/algo/lineage/_lineage.py:264: LineageWarning: Unable to determine parent, got exception NoCandidateParentException('No candidate parents have been found for in frame #173.'). Computation for frame #173, bud #110 skipped.\n",
      "  warnings.warn(LineageWarning(f'Unable to determine parent, got exception {repr(e)}. Computation for frame #{time_id_}, bud #{bud_id} skipped.'))\n",
      "/run/media/nicole/nicole_data/Documents/2018 EPFL/PH MA 2/TP4/bread-git/bread/src/bread/algo/lineage/_lineage.py:252: NotEnoughFramesWarning: Not enough frames in the movie (bud #121 at frame #177), requested 5, but only 4 remaining.\n",
      "  warnings.warn(NotEnoughFramesWarning(bud_id, time_id, self.num_frames, len(frame_range)))\n",
      "/run/media/nicole/nicole_data/Documents/2018 EPFL/PH MA 2/TP4/bread-git/bread/src/bread/algo/lineage/_lineage.py:252: NotEnoughFramesWarning: Not enough frames in the movie (bud #122 at frame #177), requested 5, but only 4 remaining.\n",
      "  warnings.warn(NotEnoughFramesWarning(bud_id, time_id, self.num_frames, len(frame_range)))\n",
      "/run/media/nicole/nicole_data/Documents/2018 EPFL/PH MA 2/TP4/bread-git/bread/src/bread/algo/lineage/_lineage.py:252: NotEnoughFramesWarning: Not enough frames in the movie (bud #123 at frame #178), requested 5, but only 3 remaining.\n",
      "  warnings.warn(NotEnoughFramesWarning(bud_id, time_id, self.num_frames, len(frame_range)))\n",
      "/run/media/nicole/nicole_data/Documents/2018 EPFL/PH MA 2/TP4/bread-git/bread/src/bread/algo/lineage/_lineage.py:252: NotEnoughFramesWarning: Not enough frames in the movie (bud #124 at frame #178), requested 5, but only 3 remaining.\n",
      "  warnings.warn(NotEnoughFramesWarning(bud_id, time_id, self.num_frames, len(frame_range)))\n",
      "/run/media/nicole/nicole_data/Documents/2018 EPFL/PH MA 2/TP4/bread-git/bread/src/bread/algo/lineage/_lineage.py:252: NotEnoughFramesWarning: Not enough frames in the movie (bud #125 at frame #179), requested 5, but only 2 remaining.\n",
      "  warnings.warn(NotEnoughFramesWarning(bud_id, time_id, self.num_frames, len(frame_range)))\n",
      "/run/media/nicole/nicole_data/Documents/2018 EPFL/PH MA 2/TP4/bread-git/bread/src/bread/algo/lineage/_lineage.py:252: NotEnoughFramesWarning: Not enough frames in the movie (bud #126 at frame #180), requested 5, but only 1 remaining.\n",
      "  warnings.warn(NotEnoughFramesWarning(bud_id, time_id, self.num_frames, len(frame_range)))\n",
      "/run/media/nicole/nicole_data/Documents/2018 EPFL/PH MA 2/TP4/bread-git/bread/src/bread/algo/lineage/_lineage.py:252: NotEnoughFramesWarning: Not enough frames in the movie (bud #127 at frame #180), requested 5, but only 1 remaining.\n",
      "  warnings.warn(NotEnoughFramesWarning(bud_id, time_id, self.num_frames, len(frame_range)))\n",
      "/run/media/nicole/nicole_data/Documents/2018 EPFL/PH MA 2/TP4/bread-git/bread/src/bread/algo/lineage/_lineage.py:252: NotEnoughFramesWarning: Not enough frames in the movie (bud #128 at frame #180), requested 5, but only 1 remaining.\n",
      "  warnings.warn(NotEnoughFramesWarning(bud_id, time_id, self.num_frames, len(frame_range)))\n"
     ]
    },
    {
     "name": "stdout",
     "output_type": "stream",
     "text": [
      "\"guess lineage #4 (BudLum)\" finished in 12.30s\n"
     ]
    },
    {
     "name": "stderr",
     "output_type": "stream",
     "text": [
      "/run/media/nicole/nicole_data/Documents/2018 EPFL/PH MA 2/TP4/bread-git/bread/src/bread/data/_features.py:230: BreadWarning: Unable to determine distance due to invalid contour, got exception CellMissingException('Unable to find cell_id=53 at time_id=167 in the segmentation.'). Computation for frame #167, bud #73, candidate #53 skipped.\n",
      "  warnings.warn(BreadWarning(f'Unable to determine distance due to invalid contour, got exception {repr(e)}. Computation for frame #{time_id_}, bud #{bud_id}, candidate #{parent_id} skipped.'))\n",
      "/run/media/nicole/nicole_data/Documents/2018 EPFL/PH MA 2/TP4/bread-git/bread/src/bread/algo/lineage/_lineage.py:516: NotEnoughFramesWarning: Not enough frames in the movie (bud #80 at frame #178), requested 5, but only 3 remaining.\n",
      "  warnings.warn(NotEnoughFramesWarning(bud_id, time_id, self.num_frames, len(frame_range)))\n",
      "/run/media/nicole/nicole_data/Documents/2018 EPFL/PH MA 2/TP4/bread-git/bread/src/bread/algo/lineage/_lineage.py:516: NotEnoughFramesWarning: Not enough frames in the movie (bud #81 at frame #178), requested 5, but only 3 remaining.\n",
      "  warnings.warn(NotEnoughFramesWarning(bud_id, time_id, self.num_frames, len(frame_range)))\n",
      "/run/media/nicole/nicole_data/Documents/2018 EPFL/PH MA 2/TP4/bread-git/bread/src/bread/algo/lineage/_lineage.py:516: NotEnoughFramesWarning: Not enough frames in the movie (bud #82 at frame #179), requested 5, but only 2 remaining.\n",
      "  warnings.warn(NotEnoughFramesWarning(bud_id, time_id, self.num_frames, len(frame_range)))\n"
     ]
    },
    {
     "name": "stdout",
     "output_type": "stream",
     "text": [
      "\"guess lineage #1 (ExpSpeed)\" finished in 5.01s\n"
     ]
    },
    {
     "name": "stderr",
     "output_type": "stream",
     "text": [
      "/run/media/nicole/nicole_data/Documents/2018 EPFL/PH MA 2/TP4/bread-git/bread/src/bread/algo/lineage/_lineage.py:516: NotEnoughFramesWarning: Not enough frames in the movie (bud #89 at frame #177), requested 5, but only 4 remaining.\n",
      "  warnings.warn(NotEnoughFramesWarning(bud_id, time_id, self.num_frames, len(frame_range)))\n",
      "/run/media/nicole/nicole_data/Documents/2018 EPFL/PH MA 2/TP4/bread-git/bread/src/bread/algo/lineage/_lineage.py:516: NotEnoughFramesWarning: Not enough frames in the movie (bud #90 at frame #177), requested 5, but only 4 remaining.\n",
      "  warnings.warn(NotEnoughFramesWarning(bud_id, time_id, self.num_frames, len(frame_range)))\n",
      "/run/media/nicole/nicole_data/Documents/2018 EPFL/PH MA 2/TP4/bread-git/bread/src/bread/algo/lineage/_lineage.py:516: NotEnoughFramesWarning: Not enough frames in the movie (bud #91 at frame #178), requested 5, but only 3 remaining.\n",
      "  warnings.warn(NotEnoughFramesWarning(bud_id, time_id, self.num_frames, len(frame_range)))\n",
      "/run/media/nicole/nicole_data/Documents/2018 EPFL/PH MA 2/TP4/bread-git/bread/src/bread/algo/lineage/_lineage.py:516: NotEnoughFramesWarning: Not enough frames in the movie (bud #92 at frame #178), requested 5, but only 3 remaining.\n",
      "  warnings.warn(NotEnoughFramesWarning(bud_id, time_id, self.num_frames, len(frame_range)))\n",
      "/run/media/nicole/nicole_data/Documents/2018 EPFL/PH MA 2/TP4/bread-git/bread/src/bread/algo/lineage/_lineage.py:516: NotEnoughFramesWarning: Not enough frames in the movie (bud #93 at frame #178), requested 5, but only 3 remaining.\n",
      "  warnings.warn(NotEnoughFramesWarning(bud_id, time_id, self.num_frames, len(frame_range)))\n",
      "/run/media/nicole/nicole_data/Documents/2018 EPFL/PH MA 2/TP4/bread-git/bread/src/bread/algo/lineage/_lineage.py:516: NotEnoughFramesWarning: Not enough frames in the movie (bud #94 at frame #178), requested 5, but only 3 remaining.\n",
      "  warnings.warn(NotEnoughFramesWarning(bud_id, time_id, self.num_frames, len(frame_range)))\n",
      "/run/media/nicole/nicole_data/Documents/2018 EPFL/PH MA 2/TP4/bread-git/bread/src/bread/algo/lineage/_lineage.py:516: NotEnoughFramesWarning: Not enough frames in the movie (bud #95 at frame #179), requested 5, but only 2 remaining.\n",
      "  warnings.warn(NotEnoughFramesWarning(bud_id, time_id, self.num_frames, len(frame_range)))\n",
      "/run/media/nicole/nicole_data/Documents/2018 EPFL/PH MA 2/TP4/bread-git/bread/src/bread/algo/lineage/_lineage.py:128: NoGuessWarning: Unable to determine parent for bud #96 in frame #180. Got error NotEnoughFramesException('Not enough frames in the movie (bud #96 at frame #180), requested 5, but only 1 remaining (need at least 2).')\n",
      "  warnings.warn(LineageGuesser.NoGuessWarning(bud_id, time_id, e))\n",
      "/run/media/nicole/nicole_data/Documents/2018 EPFL/PH MA 2/TP4/bread-git/bread/src/bread/algo/lineage/_lineage.py:128: NoGuessWarning: Unable to determine parent for bud #97 in frame #180. Got error NotEnoughFramesException('Not enough frames in the movie (bud #97 at frame #180), requested 5, but only 1 remaining (need at least 2).')\n",
      "  warnings.warn(LineageGuesser.NoGuessWarning(bud_id, time_id, e))\n"
     ]
    },
    {
     "name": "stdout",
     "output_type": "stream",
     "text": [
      "\"guess lineage #3 (ExpSpeed)\" finished in 4.97s\n"
     ]
    },
    {
     "name": "stderr",
     "output_type": "stream",
     "text": [
      "/run/media/nicole/nicole_data/Documents/2018 EPFL/PH MA 2/TP4/bread-git/bread/src/bread/algo/lineage/_lineage.py:128: NoGuessWarning: Unable to determine parent for bud #40 in frame #123. Got error BudVanishedException('Bud #40 vanished in between frame 123 to 124.')\n",
      "  warnings.warn(LineageGuesser.NoGuessWarning(bud_id, time_id, e))\n",
      "/run/media/nicole/nicole_data/Documents/2018 EPFL/PH MA 2/TP4/bread-git/bread/src/bread/algo/lineage/_lineage.py:128: NoGuessWarning: Unable to determine parent for bud #101 in frame #169. Got error BudVanishedException('Bud #101 vanished in between frame 169 to 170.')\n",
      "  warnings.warn(LineageGuesser.NoGuessWarning(bud_id, time_id, e))\n",
      "/run/media/nicole/nicole_data/Documents/2018 EPFL/PH MA 2/TP4/bread-git/bread/src/bread/algo/lineage/_lineage.py:516: NotEnoughFramesWarning: Not enough frames in the movie (bud #121 at frame #177), requested 5, but only 4 remaining.\n",
      "  warnings.warn(NotEnoughFramesWarning(bud_id, time_id, self.num_frames, len(frame_range)))\n",
      "/run/media/nicole/nicole_data/Documents/2018 EPFL/PH MA 2/TP4/bread-git/bread/src/bread/algo/lineage/_lineage.py:516: NotEnoughFramesWarning: Not enough frames in the movie (bud #122 at frame #177), requested 5, but only 4 remaining.\n",
      "  warnings.warn(NotEnoughFramesWarning(bud_id, time_id, self.num_frames, len(frame_range)))\n",
      "/run/media/nicole/nicole_data/Documents/2018 EPFL/PH MA 2/TP4/bread-git/bread/src/bread/algo/lineage/_lineage.py:516: NotEnoughFramesWarning: Not enough frames in the movie (bud #123 at frame #178), requested 5, but only 3 remaining.\n",
      "  warnings.warn(NotEnoughFramesWarning(bud_id, time_id, self.num_frames, len(frame_range)))\n",
      "/run/media/nicole/nicole_data/Documents/2018 EPFL/PH MA 2/TP4/bread-git/bread/src/bread/algo/lineage/_lineage.py:516: NotEnoughFramesWarning: Not enough frames in the movie (bud #124 at frame #178), requested 5, but only 3 remaining.\n",
      "  warnings.warn(NotEnoughFramesWarning(bud_id, time_id, self.num_frames, len(frame_range)))\n",
      "/run/media/nicole/nicole_data/Documents/2018 EPFL/PH MA 2/TP4/bread-git/bread/src/bread/algo/lineage/_lineage.py:516: NotEnoughFramesWarning: Not enough frames in the movie (bud #125 at frame #179), requested 5, but only 2 remaining.\n",
      "  warnings.warn(NotEnoughFramesWarning(bud_id, time_id, self.num_frames, len(frame_range)))\n",
      "/run/media/nicole/nicole_data/Documents/2018 EPFL/PH MA 2/TP4/bread-git/bread/src/bread/algo/lineage/_lineage.py:128: NoGuessWarning: Unable to determine parent for bud #126 in frame #180. Got error NotEnoughFramesException('Not enough frames in the movie (bud #126 at frame #180), requested 5, but only 1 remaining (need at least 2).')\n",
      "  warnings.warn(LineageGuesser.NoGuessWarning(bud_id, time_id, e))\n",
      "/run/media/nicole/nicole_data/Documents/2018 EPFL/PH MA 2/TP4/bread-git/bread/src/bread/algo/lineage/_lineage.py:128: NoGuessWarning: Unable to determine parent for bud #127 in frame #180. Got error NotEnoughFramesException('Not enough frames in the movie (bud #127 at frame #180), requested 5, but only 1 remaining (need at least 2).')\n",
      "  warnings.warn(LineageGuesser.NoGuessWarning(bud_id, time_id, e))\n",
      "/run/media/nicole/nicole_data/Documents/2018 EPFL/PH MA 2/TP4/bread-git/bread/src/bread/algo/lineage/_lineage.py:128: NoGuessWarning: Unable to determine parent for bud #128 in frame #180. Got error NotEnoughFramesException('Not enough frames in the movie (bud #128 at frame #180), requested 5, but only 1 remaining (need at least 2).')\n",
      "  warnings.warn(LineageGuesser.NoGuessWarning(bud_id, time_id, e))\n"
     ]
    },
    {
     "name": "stdout",
     "output_type": "stream",
     "text": [
      "\"guess lineage #4 (ExpSpeed)\" finished in 7.38s\n",
      "\"guess lineage #1 (MinTheta)\" finished in 8.75s\n",
      "\"guess lineage #3 (MinTheta)\" finished in 9.14s\n",
      "\"guess lineage #1 (MinDistance)\" finished in 2.74s\n",
      "\"guess lineage #3 (MinDistance)\" finished in 2.81s\n",
      "\"guess lineage #1 (NN)\" finished in 5.33s\n",
      "\"guess lineage #3 (NN)\" finished in 5.78s\n",
      "\"guess lineage #4 (MinTheta)\" finished in 13.61s\n"
     ]
    },
    {
     "name": "stderr",
     "output_type": "stream",
     "text": [
      "/run/media/nicole/nicole_data/Documents/2018 EPFL/PH MA 2/TP4/bread-git/bread/src/bread/algo/lineage/_lineage.py:252: NotEnoughFramesWarning: Not enough frames in the movie (bud #150 at frame #178), requested 5, but only 3 remaining.\n",
      "  warnings.warn(NotEnoughFramesWarning(bud_id, time_id, self.num_frames, len(frame_range)))\n",
      "/run/media/nicole/nicole_data/Documents/2018 EPFL/PH MA 2/TP4/bread-git/bread/src/bread/algo/lineage/_lineage.py:252: NotEnoughFramesWarning: Not enough frames in the movie (bud #151 at frame #178), requested 5, but only 3 remaining.\n",
      "  warnings.warn(NotEnoughFramesWarning(bud_id, time_id, self.num_frames, len(frame_range)))\n",
      "/run/media/nicole/nicole_data/Documents/2018 EPFL/PH MA 2/TP4/bread-git/bread/src/bread/algo/lineage/_lineage.py:252: NotEnoughFramesWarning: Not enough frames in the movie (bud #152 at frame #179), requested 5, but only 2 remaining.\n",
      "  warnings.warn(NotEnoughFramesWarning(bud_id, time_id, self.num_frames, len(frame_range)))\n",
      "/run/media/nicole/nicole_data/Documents/2018 EPFL/PH MA 2/TP4/bread-git/bread/src/bread/algo/lineage/_lineage.py:252: NotEnoughFramesWarning: Not enough frames in the movie (bud #153 at frame #180), requested 5, but only 1 remaining.\n",
      "  warnings.warn(NotEnoughFramesWarning(bud_id, time_id, self.num_frames, len(frame_range)))\n",
      "/run/media/nicole/nicole_data/Documents/2018 EPFL/PH MA 2/TP4/bread-git/bread/src/bread/algo/lineage/_lineage.py:252: NotEnoughFramesWarning: Not enough frames in the movie (bud #154 at frame #180), requested 5, but only 1 remaining.\n",
      "  warnings.warn(NotEnoughFramesWarning(bud_id, time_id, self.num_frames, len(frame_range)))\n",
      "/run/media/nicole/nicole_data/Documents/2018 EPFL/PH MA 2/TP4/bread-git/bread/src/bread/algo/lineage/_lineage.py:252: NotEnoughFramesWarning: Not enough frames in the movie (bud #155 at frame #180), requested 5, but only 1 remaining.\n",
      "  warnings.warn(NotEnoughFramesWarning(bud_id, time_id, self.num_frames, len(frame_range)))\n"
     ]
    },
    {
     "name": "stdout",
     "output_type": "stream",
     "text": [
      "\"guess lineage #2 (BudLum)\" finished in 33.59s\n",
      "\"guess lineage #4 (MinDistance)\" finished in 3.04s\n"
     ]
    },
    {
     "name": "stderr",
     "output_type": "stream",
     "text": [
      "/run/media/nicole/nicole_data/Documents/2018 EPFL/PH MA 2/TP4/bread-git/bread/src/bread/data/_features.py:81: RuntimeWarning: Mean of empty slice\n",
      "  expspeed = np.nanmean(np.gradient(expdists))\n",
      "/run/media/nicole/nicole_data/Documents/2018 EPFL/PH MA 2/TP4/bread-git/bread/src/bread/data/_features.py:81: RuntimeWarning: Mean of empty slice\n",
      "  expspeed = np.nanmean(np.gradient(expdists))\n",
      "/run/media/nicole/nicole_data/Documents/2018 EPFL/PH MA 2/TP4/bread-git/bread/src/bread/data/_features.py:81: RuntimeWarning: Mean of empty slice\n",
      "  expspeed = np.nanmean(np.gradient(expdists))\n",
      "/run/media/nicole/nicole_data/Documents/2018 EPFL/PH MA 2/TP4/bread-git/bread/src/bread/data/_features.py:81: RuntimeWarning: Mean of empty slice\n",
      "  expspeed = np.nanmean(np.gradient(expdists))\n"
     ]
    },
    {
     "name": "stdout",
     "output_type": "stream",
     "text": [
      "\"guess lineage #4 (NN)\" finished in 4.12s\n"
     ]
    },
    {
     "name": "stderr",
     "output_type": "stream",
     "text": [
      "/run/media/nicole/nicole_data/Documents/2018 EPFL/PH MA 2/TP4/bread-git/bread/src/bread/algo/lineage/_lineage.py:516: NotEnoughFramesWarning: Not enough frames in the movie (bud #150 at frame #178), requested 5, but only 3 remaining.\n",
      "  warnings.warn(NotEnoughFramesWarning(bud_id, time_id, self.num_frames, len(frame_range)))\n",
      "/run/media/nicole/nicole_data/Documents/2018 EPFL/PH MA 2/TP4/bread-git/bread/src/bread/algo/lineage/_lineage.py:516: NotEnoughFramesWarning: Not enough frames in the movie (bud #151 at frame #178), requested 5, but only 3 remaining.\n",
      "  warnings.warn(NotEnoughFramesWarning(bud_id, time_id, self.num_frames, len(frame_range)))\n",
      "/run/media/nicole/nicole_data/Documents/2018 EPFL/PH MA 2/TP4/bread-git/bread/src/bread/algo/lineage/_lineage.py:516: NotEnoughFramesWarning: Not enough frames in the movie (bud #152 at frame #179), requested 5, but only 2 remaining.\n",
      "  warnings.warn(NotEnoughFramesWarning(bud_id, time_id, self.num_frames, len(frame_range)))\n",
      "/run/media/nicole/nicole_data/Documents/2018 EPFL/PH MA 2/TP4/bread-git/bread/src/bread/algo/lineage/_lineage.py:128: NoGuessWarning: Unable to determine parent for bud #153 in frame #180. Got error NotEnoughFramesException('Not enough frames in the movie (bud #153 at frame #180), requested 5, but only 1 remaining (need at least 2).')\n",
      "  warnings.warn(LineageGuesser.NoGuessWarning(bud_id, time_id, e))\n",
      "/run/media/nicole/nicole_data/Documents/2018 EPFL/PH MA 2/TP4/bread-git/bread/src/bread/algo/lineage/_lineage.py:128: NoGuessWarning: Unable to determine parent for bud #154 in frame #180. Got error NotEnoughFramesException('Not enough frames in the movie (bud #154 at frame #180), requested 5, but only 1 remaining (need at least 2).')\n",
      "  warnings.warn(LineageGuesser.NoGuessWarning(bud_id, time_id, e))\n",
      "/run/media/nicole/nicole_data/Documents/2018 EPFL/PH MA 2/TP4/bread-git/bread/src/bread/algo/lineage/_lineage.py:128: NoGuessWarning: Unable to determine parent for bud #155 in frame #180. Got error NotEnoughFramesException('Not enough frames in the movie (bud #155 at frame #180), requested 5, but only 1 remaining (need at least 2).')\n",
      "  warnings.warn(LineageGuesser.NoGuessWarning(bud_id, time_id, e))\n"
     ]
    },
    {
     "name": "stdout",
     "output_type": "stream",
     "text": [
      "\"guess lineage #2 (ExpSpeed)\" finished in 14.68s\n",
      "\"guess lineage #2 (MinTheta)\" finished in 24.67s\n",
      "\"guess lineage #2 (MinDistance)\" finished in 7.71s\n",
      "\"guess lineage #2 (NN)\" finished in 10.09s\n"
     ]
    }
   ],
   "source": [
    "accs = { 'BudLum': [], 'ExpansionSpeed': [], 'MinTheta': [], 'MinDistance': [], 'DeepNN': [] }\n",
    "colony_ids = [1,2,3,4,5]\n",
    "\n",
    "def process(colony_id: int):\n",
    "\twith Timer(f'load data #{colony_id}'):\n",
    "\t\tseg = Segmentation.from_h5(f'../../data/raw/colony{colony_id:03d}_segmentation.h5')\n",
    "\t\tgfp = Microscopy.from_tiff(f'../../data/raw/colony{colony_id:03d}_GFP.tif')\n",
    "\t\tlin_truth = Lineage.from_csv(f'../../data/raw/colony{colony_id:03d}_lineage.csv')\n",
    "\n",
    "\twith warnings.catch_warnings():\n",
    "\t\twarnings.filterwarnings('ignore', category=NotEnoughFramesException)\n",
    "\t\twith Timer(f'guess lineage #{colony_id} (BudLum)'):\n",
    "\t\t\tlin_pred_budlum = LineageGuesserBudLum(budneck_img=gfp, segmentation=seg).guess_lineage()\n",
    "\t\twith Timer(f'guess lineage #{colony_id} (ExpSpeed)'):\n",
    "\t\t\tlin_pred_expspeed = LineageGuesserExpansionSpeed(segmentation=seg).guess_lineage()\n",
    "\t\twith Timer(f'guess lineage #{colony_id} (MinTheta)'):\n",
    "\t\t\tlin_pred_mintheta = LineageGuesserMinTheta(segmentation=seg).guess_lineage()\n",
    "\t\twith Timer(f'guess lineage #{colony_id} (MinDistance)'):\n",
    "\t\t\tlin_pred_mindist = LineageGuesserMinDistance(segmentation=seg).guess_lineage()\n",
    "\t\twith Timer(f'guess lineage #{colony_id} (NN)'):\n",
    "\t\t\tlin_pred_nn = LineageGuesserDeepNN(segmentation=seg,\n",
    "\t\t\t\tscale_length=1/9.2308, scale_time=5,\n",
    "\t\t\t\tpath_model='../../pytorch/best/best.ckpt'\n",
    "\t\t\t).guess_lineage()\n",
    "\t\n",
    "\treturn (\n",
    "\t\taccuracy(lin_truth, lin_pred_budlum, strict=False),\n",
    "\t\taccuracy(lin_truth, lin_pred_expspeed, strict=False),\n",
    "\t\taccuracy(lin_truth, lin_pred_mintheta, strict=False),\n",
    "\t\taccuracy(lin_truth, lin_pred_mindist, strict=False),\n",
    "\t\taccuracy(lin_truth, lin_pred_nn, strict=False),\n",
    "\t)\n",
    "\n",
    "with multiprocessing.Pool() as pool:\n",
    "\tresults = pool.imap(process, colony_ids)\n",
    "\n",
    "\tfor res in results:\n",
    "\t\tfor key, a in zip(accs, res):\n",
    "\t\t\taccs[key].append(a)"
   ]
  },
  {
   "cell_type": "code",
   "execution_count": 14,
   "metadata": {},
   "outputs": [
    {
     "data": {
      "text/html": [
       "<div>\n",
       "<style scoped>\n",
       "    .dataframe tbody tr th:only-of-type {\n",
       "        vertical-align: middle;\n",
       "    }\n",
       "\n",
       "    .dataframe tbody tr th {\n",
       "        vertical-align: top;\n",
       "    }\n",
       "\n",
       "    .dataframe thead th {\n",
       "        text-align: right;\n",
       "    }\n",
       "</style>\n",
       "<table border=\"1\" class=\"dataframe\">\n",
       "  <thead>\n",
       "    <tr style=\"text-align: right;\">\n",
       "      <th></th>\n",
       "      <th>BudLum</th>\n",
       "      <th>ExpansionSpeed</th>\n",
       "      <th>MinTheta</th>\n",
       "      <th>MinDistance</th>\n",
       "      <th>NN</th>\n",
       "    </tr>\n",
       "  </thead>\n",
       "  <tbody>\n",
       "    <tr>\n",
       "      <th>colony 1</th>\n",
       "      <td>1.000000</td>\n",
       "      <td>0.750000</td>\n",
       "      <td>0.800000</td>\n",
       "      <td>0.762500</td>\n",
       "      <td>0.725000</td>\n",
       "    </tr>\n",
       "    <tr>\n",
       "      <th>colony 2</th>\n",
       "      <td>0.993243</td>\n",
       "      <td>0.806897</td>\n",
       "      <td>0.736486</td>\n",
       "      <td>0.743243</td>\n",
       "      <td>0.786207</td>\n",
       "    </tr>\n",
       "    <tr>\n",
       "      <th>colony 3</th>\n",
       "      <td>0.989474</td>\n",
       "      <td>0.731183</td>\n",
       "      <td>0.684211</td>\n",
       "      <td>0.610526</td>\n",
       "      <td>0.752688</td>\n",
       "    </tr>\n",
       "    <tr>\n",
       "      <th>colony 4</th>\n",
       "      <td>0.968000</td>\n",
       "      <td>0.650000</td>\n",
       "      <td>0.592000</td>\n",
       "      <td>0.656000</td>\n",
       "      <td>0.733333</td>\n",
       "    </tr>\n",
       "    <tr>\n",
       "      <th>colony 5</th>\n",
       "      <td>1.000000</td>\n",
       "      <td>0.805556</td>\n",
       "      <td>0.694444</td>\n",
       "      <td>0.777778</td>\n",
       "      <td>0.805556</td>\n",
       "    </tr>\n",
       "  </tbody>\n",
       "</table>\n",
       "</div>"
      ],
      "text/plain": [
       "            BudLum  ExpansionSpeed  MinTheta  MinDistance        NN\n",
       "colony 1  1.000000        0.750000  0.800000     0.762500  0.725000\n",
       "colony 2  0.993243        0.806897  0.736486     0.743243  0.786207\n",
       "colony 3  0.989474        0.731183  0.684211     0.610526  0.752688\n",
       "colony 4  0.968000        0.650000  0.592000     0.656000  0.733333\n",
       "colony 5  1.000000        0.805556  0.694444     0.777778  0.805556"
      ]
     },
     "execution_count": 14,
     "metadata": {},
     "output_type": "execute_result"
    }
   ],
   "source": [
    "accs_df = pandas.DataFrame(accs, [f'colony {i}' for i in colony_ids], accs.keys())\n",
    "accs_df"
   ]
  },
  {
   "cell_type": "code",
   "execution_count": 13,
   "metadata": {},
   "outputs": [
    {
     "data": {
      "text/plain": [
       "BudLum            0.990143\n",
       "ExpansionSpeed    0.748727\n",
       "MinTheta          0.701428\n",
       "MinDistance       0.710009\n",
       "NN                0.760557\n",
       "dtype: float64"
      ]
     },
     "execution_count": 13,
     "metadata": {},
     "output_type": "execute_result"
    }
   ],
   "source": [
    "accs_df.mean()"
   ]
  }
 ],
 "metadata": {
  "interpreter": {
   "hash": "58ee94b77d5a79709d8508177f82524efb55041b554c3ae28ec17cfae1ccaaab"
  },
  "kernelspec": {
   "display_name": "Python 3.7.13 ('bread')",
   "language": "python",
   "name": "python3"
  },
  "language_info": {
   "codemirror_mode": {
    "name": "ipython",
    "version": 3
   },
   "file_extension": ".py",
   "mimetype": "text/x-python",
   "name": "python",
   "nbconvert_exporter": "python",
   "pygments_lexer": "ipython3",
   "version": "3.7.13"
  },
  "orig_nbformat": 4
 },
 "nbformat": 4,
 "nbformat_minor": 2
}

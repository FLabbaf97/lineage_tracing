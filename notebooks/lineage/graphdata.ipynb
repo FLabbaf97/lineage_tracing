{
 "cells": [
  {
   "cell_type": "code",
   "execution_count": 49,
   "metadata": {},
   "outputs": [],
   "source": [
    "from collections import Counter\n",
    "import re\n",
    "\n",
    "import matplotlib.pyplot as plt\n",
    "\n",
    "import torch\n"
   ]
  },
  {
   "cell_type": "code",
   "execution_count": 84,
   "metadata": {},
   "outputs": [],
   "source": [
    "data = torch.load('../../data/generated/data_train.pt')['data'] + torch.load('../../data/generated/data_test.pt')['data']\n",
    "x = torch.cat([ d['x'] for d in data ], dim=0)\n",
    "y = torch.cat([ d['y'] for d in data ])  # is_budding\n",
    "bud_ids = torch.cat([ d['bud_id'] for d in data ])\n",
    "time_ids = torch.cat([ d['time_id'] for d in data ])\n",
    "candidate_ids = torch.cat([ d['candidate_id'] for d in data ])\n",
    "colony_ids = torch.cat([ torch.tensor([int(re.findall('(?:.*colony)(\\d\\d\\d)(?:_.*)', str(d['fp_segmentation']))[0])] * len(d['y'])) for d in data ])"
   ]
  },
  {
   "cell_type": "code",
   "execution_count": 85,
   "metadata": {},
   "outputs": [],
   "source": [
    "# compute indices where a new graph starts\n",
    "# in the data, budding events with nearest neighbours are adjacent\n",
    "# so we find ranges of consecutive bud_id and time_id\n",
    "\n",
    "idn_graphs = [0]\n",
    "\n",
    "for idn in range(1, len(x)):\n",
    "\tif not (bud_ids[idn-1] == bud_ids[idn] and time_ids[idn-1] == time_ids[idn]):\n",
    "\t\tidn_graphs.append(idn)\n",
    "\n",
    "idn_graphs.append(len(x))  # delimiter of the last graph"
   ]
  },
  {
   "cell_type": "code",
   "execution_count": 86,
   "metadata": {},
   "outputs": [
    {
     "data": {
      "image/png": "[encoded data removed]",
      "text/plain": [
       "<Figure size 640x480 with 1 Axes>"
      ]
     },
     "metadata": {},
     "output_type": "display_data"
    }
   ],
   "source": [
    "# check graph distribution\n",
    "cnt = Counter([b-a for b, a in zip(idn_graphs[1:], idn_graphs[:-1])])\n",
    "\n",
    "fig, ax = plt.subplots()\n",
    "ax.bar(cnt.keys(), cnt.values())\n",
    "ax.set_xticks(list(cnt.keys()))\n",
    "ax.set_xlabel('number of nearest neighbours in budding event')\n",
    "ax.set_ylabel('number of budding events in dataset')\n",
    "plt.show()"
   ]
  },
  {
   "cell_type": "code",
   "execution_count": 87,
   "metadata": {},
   "outputs": [],
   "source": [
    "from torch_geometric.data import Data"
   ]
  },
  {
   "cell_type": "code",
   "execution_count": 89,
   "metadata": {},
   "outputs": [
    {
     "name": "stdout",
     "output_type": "stream",
     "text": [
      "Data(x=[4, 6], edge_index=[3, 2], edge_attr=[3, 13], y=[3, 1])\n",
      "bud_id=66, nn_ids=[4, 8, 62], time_id=148, colony_id=4\n",
      "Data(x=[5, 6], edge_index=[4, 2], edge_attr=[4, 13], y=[4, 1])\n",
      "bud_id=53, nn_ids=[7, 9, 12, 35], time_id=141, colony_id=4\n",
      "Data(x=[4, 6], edge_index=[3, 2], edge_attr=[3, 13], y=[3, 1])\n",
      "bud_id=55, nn_ids=[4, 22, 25], time_id=141, colony_id=4\n",
      "Data(x=[4, 6], edge_index=[3, 2], edge_attr=[3, 13], y=[3, 1])\n",
      "bud_id=66, nn_ids=[4, 8, 62], time_id=148, colony_id=4\n",
      "Data(x=[4, 6], edge_index=[3, 2], edge_attr=[3, 13], y=[3, 1])\n",
      "bud_id=66, nn_ids=[4, 8, 62], time_id=149, colony_id=4\n",
      "Data(x=[4, 6], edge_index=[3, 2], edge_attr=[3, 13], y=[3, 1])\n",
      "bud_id=66, nn_ids=[4, 8, 62], time_id=150, colony_id=4\n",
      "Data(x=[4, 6], edge_index=[3, 2], edge_attr=[3, 13], y=[3, 1])\n",
      "bud_id=66, nn_ids=[4, 8, 62], time_id=151, colony_id=4\n",
      "Data(x=[4, 6], edge_index=[3, 2], edge_attr=[3, 13], y=[3, 1])\n",
      "bud_id=66, nn_ids=[4, 8, 62], time_id=152, colony_id=4\n",
      "Data(x=[5, 6], edge_index=[4, 2], edge_attr=[4, 13], y=[4, 1])\n",
      "bud_id=129, nn_ids=[49, 65, 71, 77], time_id=167, colony_id=2\n"
     ]
    }
   ],
   "source": [
    "datas = []\n",
    "\n",
    "for i, idn_graph in enumerate(idn_graphs[:-1]):\n",
    "\tdata = Data(\n",
    "\t\t# first row of x is the bud features, rest are parent features\n",
    "\t\tx=torch.vstack([x[idn_graph, 0:6]] + [x[j, 6:12] for j in range(idn_graphs[i], idn_graphs[i+1])]),  # [bud] + [parents]\n",
    "\t\tedge_attr=torch.vstack([x[j, 12:25] for j in range(idn_graphs[i], idn_graphs[i+1])]),\n",
    "\t\ty=torch.vstack([y[j] for j in range(idn_graphs[i], idn_graphs[i+1])]),\n",
    "\t\tedge_index=torch.vstack([torch.tensor([0, j+1]) for j in range(idn_graphs[i+1]-idn_graphs[i])]).type(torch.long)\n",
    "\t)\n",
    "\tif not data.y.any():\n",
    "\t\t# strange cases where the true parent is not in the nearest neighbours !\n",
    "\t\tprint(data)\n",
    "\t\tprint(f'bud_id={bud_ids[idn_graph]}, nn_ids={[int(candidate_ids[j]) for j in range(idn_graphs[i], idn_graphs[i+1])]}, time_id={time_ids[idn_graph]}, colony_id={colony_ids[idn_graph]}')\n",
    "\tdatas.append(data)"
   ]
  }
 ],
 "metadata": {
  "interpreter": {
   "hash": "58ee94b77d5a79709d8508177f82524efb55041b554c3ae28ec17cfae1ccaaab"
  },
  "kernelspec": {
   "display_name": "Python 3.7.13 ('bread')",
   "language": "python",
   "name": "python3"
  },
  "language_info": {
   "codemirror_mode": {
    "name": "ipython",
    "version": 3
   },
   "file_extension": ".py",
   "mimetype": "text/x-python",
   "name": "python",
   "nbconvert_exporter": "python",
   "pygments_lexer": "ipython3",
   "version": "3.7.13"
  },
  "orig_nbformat": 4
 },
 "nbformat": 4,
 "nbformat_minor": 2
}

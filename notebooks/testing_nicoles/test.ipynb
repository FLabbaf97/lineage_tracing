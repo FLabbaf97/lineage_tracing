{
 "cells": [
  {
   "cell_type": "code",
   "execution_count": 1,
   "metadata": {},
   "outputs": [],
   "source": [
    "from skimage.feature import graycomatrix\n",
    "from skimage.feature import graycoprops"
   ]
  },
  {
   "cell_type": "code",
   "execution_count": 2,
   "metadata": {},
   "outputs": [],
   "source": [
    "import numpy as np\n",
    "import pandas as pd\n",
    "import os\n",
    "from sklearn.preprocessing import MinMaxScaler, StandardScaler\n",
    "import plotly.express as px\n",
    "import plotly\n",
    "\n",
    "from bread.vis import *\n",
    "from bread.data import Features, SegmentationFile, Microscopy\n",
    "from bread.algo.lineage import LineageGuesser, LineageGuesserNN, LineageGuesserML, LineageGuesserNearestCell, accuracy\n",
    "from bread.data import Lineage"
   ]
  },
  {
   "cell_type": "code",
   "execution_count": 3,
   "metadata": {},
   "outputs": [],
   "source": [
    "seg = SegmentationFile.from_h5(\n",
    "    '../../data/segmentations/colony003_segmentation.h5').get_segmentation(\"FOV0\")\n",
    "microscopy = Microscopy.from_tiff(\n",
    "    '../../data/microscopies/colony003_microscopy.tif')\n",
    "feat = Features(seg, nn_threshold=12, scale_length=1, scale_time=1, microscopy=microscopy)"
   ]
  },
  {
   "cell_type": "code",
   "execution_count": 12,
   "metadata": {},
   "outputs": [
    {
     "data": {
      "text/plain": [
       "[1,\n",
       " 2,\n",
       " 3,\n",
       " 4,\n",
       " 5,\n",
       " 6,\n",
       " 7,\n",
       " 8,\n",
       " 9,\n",
       " 10,\n",
       " 11,\n",
       " 12,\n",
       " 13,\n",
       " 14,\n",
       " 15,\n",
       " 16,\n",
       " 17,\n",
       " 18,\n",
       " 19,\n",
       " 20,\n",
       " 21,\n",
       " 22,\n",
       " 23,\n",
       " 24,\n",
       " 25,\n",
       " 26,\n",
       " 27,\n",
       " 28,\n",
       " 29,\n",
       " 30,\n",
       " 31,\n",
       " 32,\n",
       " 33,\n",
       " 34,\n",
       " 35,\n",
       " 36,\n",
       " 37,\n",
       " 38,\n",
       " 39,\n",
       " 40,\n",
       " 41,\n",
       " 42,\n",
       " 43,\n",
       " 44,\n",
       " 45,\n",
       " 46,\n",
       " 47,\n",
       " 48,\n",
       " 49,\n",
       " 50,\n",
       " 51,\n",
       " 52,\n",
       " 53,\n",
       " 54,\n",
       " 55,\n",
       " 56,\n",
       " 57,\n",
       " 58,\n",
       " 59,\n",
       " 60,\n",
       " 61]"
      ]
     },
     "execution_count": 12,
     "metadata": {},
     "output_type": "execute_result"
    }
   ],
   "source": [
    "# feat.cell_mean_intensity(1,1)\n",
    "seg.cell_ids(154)"
   ]
  },
  {
   "cell_type": "code",
   "execution_count": null,
   "metadata": {},
   "outputs": [
    {
     "data": {
      "text/plain": [
       "{'contrast': 2440.883758710085,\n",
       " 'energy': 0.16274341764097258,\n",
       " 'correlation': 0.4914472200237478}"
      ]
     },
     "execution_count": 5,
     "metadata": {},
     "output_type": "execute_result"
    }
   ],
   "source": [
    "feat.cell_texture(2,1)"
   ]
  },
  {
   "cell_type": "code",
   "execution_count": null,
   "metadata": {},
   "outputs": [
    {
     "data": {
      "text/plain": [
       "{'contrast': 1653.0935051240167,\n",
       " 'energy': 0.11075640512605349,\n",
       " 'correlation': 0.49912984704676977}"
      ]
     },
     "execution_count": 6,
     "metadata": {},
     "output_type": "execute_result"
    }
   ],
   "source": [
    "feat.cell_texture(1,2)"
   ]
  },
  {
   "cell_type": "code",
   "execution_count": null,
   "metadata": {},
   "outputs": [
    {
     "data": {
      "text/plain": [
       "{'contrast': 2892.2107423596844,\n",
       " 'energy': 0.1227982393912742,\n",
       " 'correlation': 0.37970996443706606}"
      ]
     },
     "execution_count": 7,
     "metadata": {},
     "output_type": "execute_result"
    }
   ],
   "source": [
    "feat.cell_texture(2,2)"
   ]
  },
  {
   "cell_type": "code",
   "execution_count": null,
   "metadata": {},
   "outputs": [
    {
     "data": {
      "text/plain": [
       "17.283918998391353"
      ]
     },
     "execution_count": 8,
     "metadata": {},
     "output_type": "execute_result"
    }
   ],
   "source": [
    "feat.cell_r_equiv(1,1)\n",
    "feat.cell_r_equiv(1,2)\n",
    "feat.cell_r_equiv(2,1)\n",
    "feat.cell_r_equiv(2,2)\n",
    "\n"
   ]
  },
  {
   "cell_type": "code",
   "execution_count": null,
   "metadata": {},
   "outputs": [],
   "source": [
    "def cell_texture( time_id: int, cell_id: int, distance: int = 1) -> float:\n",
    "    fov = 'FOV0'\n",
    "    assert microscopy is not None, \"Microscopy object not set\"\n",
    "    cell_mask = segmentation.data[time_id] == cell_id\n",
    "    image = microscopy.get_frame(fov, time_id)*cell_mask\n",
    "    cm = feat._cm(cell_id, time_id)\n",
    "    r = feat.cell_r_equiv(time_id, cell_id)\n",
    "    # crop the image around the cell\n",
    "    xmin = int(cm[1]-r)\n",
    "    xmax = int(cm[1]+r)\n",
    "    ymin = int(cm[0]-r)\n",
    "    ymax = int(cm[0]+r)\n",
    "    cell_image = image[ymin:ymax, xmin:xmax]\n",
    "    distance = [1,3]\n",
    "    angles = [0, np.pi/4, np.pi/2, 3*np.pi/4]\n",
    "    cell_image_uint8 = ((cell_image - np.min(cell_image)) / (np.max(cell_image) - np.min(cell_image)) * 255).astype(np.uint8)\n",
    "\n",
    "    glcm = graycomatrix(cell_image_uint8, distance, angles, symmetric=True, normed=True)\n",
    "    contrast = graycoprops(glcm, 'contrast').mean()\n",
    "    texture_features = {}\n",
    "    texture_features['contrast'] = contrast\n",
    "\n",
    "    energy = graycoprops(glcm, 'energy').mean()\n",
    "    texture_features['energy'] = energy\n",
    "\n",
    "    correlation = graycoprops(glcm, 'correlation').mean()\n",
    "    texture_features['correlation'] = correlation\n",
    "    return correlation , contrast, energy\n"
   ]
  },
  {
   "cell_type": "code",
   "execution_count": null,
   "metadata": {},
   "outputs": [
    {
     "data": {
      "text/plain": [
       "<function skimage.feature.texture.graycoprops(P, prop='contrast')>"
      ]
     },
     "execution_count": 14,
     "metadata": {},
     "output_type": "execute_result"
    }
   ],
   "source": [
    "segmentation = seg\n",
    "\n",
    "cell_texture(1,1)"
   ]
  }
 ],
 "metadata": {
  "kernelspec": {
   "display_name": "paper2022",
   "language": "python",
   "name": "python3"
  },
  "language_info": {
   "codemirror_mode": {
    "name": "ipython",
    "version": 3
   },
   "file_extension": ".py",
   "mimetype": "text/x-python",
   "name": "python",
   "nbconvert_exporter": "python",
   "pygments_lexer": "ipython3",
   "version": "3.9.7"
  }
 },
 "nbformat": 4,
 "nbformat_minor": 2
}

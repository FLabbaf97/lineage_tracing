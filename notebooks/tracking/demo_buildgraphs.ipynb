{
 "cells": [
  {
   "cell_type": "code",
   "execution_count": 1,
   "metadata": {},
   "outputs": [],
   "source": [
    "%load_ext autoreload\n",
    "%autoreload 2"
   ]
  },
  {
   "cell_type": "code",
   "execution_count": 2,
   "metadata": {},
   "outputs": [],
   "source": [
    "from bread.data import Features, Segmentation, Lineage\n",
    "import bread.algo.tracking as tracking\n",
    "import bread.vis as vis\n",
    "import pandas as pd\n",
    "import numpy as np\n",
    "import networkx as nx\n",
    "import matplotlib.pyplot as plt\n",
    "import torch_geometric"
   ]
  },
  {
   "cell_type": "code",
   "execution_count": 3,
   "metadata": {},
   "outputs": [],
   "source": [
    "seg = Segmentation.from_h5('../../data/data_from_LPBS/colony005_segmentation.h5')\n",
    "feat = Features(seg, nn_threshold=12)"
   ]
  },
  {
   "cell_type": "markdown",
   "metadata": {},
   "source": [
    "# Build cellgraph\n",
    "\n",
    "Extract node and edge features"
   ]
  },
  {
   "cell_type": "code",
   "execution_count": 4,
   "metadata": {},
   "outputs": [],
   "source": [
    "graph, df_x, df_e = tracking.build_cellgraph(feat, time_id=100, return_df=True)"
   ]
  },
  {
   "cell_type": "code",
   "execution_count": 5,
   "metadata": {},
   "outputs": [
    {
     "data": {
      "text/html": [
       "<div>\n",
       "<style scoped>\n",
       "    .dataframe tbody tr th:only-of-type {\n",
       "        vertical-align: middle;\n",
       "    }\n",
       "\n",
       "    .dataframe tbody tr th {\n",
       "        vertical-align: top;\n",
       "    }\n",
       "\n",
       "    .dataframe thead th {\n",
       "        text-align: right;\n",
       "    }\n",
       "</style>\n",
       "<table border=\"1\" class=\"dataframe\">\n",
       "  <thead>\n",
       "    <tr style=\"text-align: right;\">\n",
       "      <th></th>\n",
       "      <th>cell_id</th>\n",
       "      <th>area</th>\n",
       "      <th>r_equiv</th>\n",
       "      <th>r_maj</th>\n",
       "      <th>r_min</th>\n",
       "      <th>angle</th>\n",
       "      <th>ecc</th>\n",
       "    </tr>\n",
       "  </thead>\n",
       "  <tbody>\n",
       "    <tr>\n",
       "      <th>0</th>\n",
       "      <td>1</td>\n",
       "      <td>4123.5</td>\n",
       "      <td>36.370828</td>\n",
       "      <td>37.970253</td>\n",
       "      <td>34.838776</td>\n",
       "      <td>1.186472</td>\n",
       "      <td>0.397671</td>\n",
       "    </tr>\n",
       "    <tr>\n",
       "      <th>1</th>\n",
       "      <td>2</td>\n",
       "      <td>5199.0</td>\n",
       "      <td>40.748755</td>\n",
       "      <td>43.136539</td>\n",
       "      <td>38.493145</td>\n",
       "      <td>3.039086</td>\n",
       "      <td>0.451332</td>\n",
       "    </tr>\n",
       "    <tr>\n",
       "      <th>2</th>\n",
       "      <td>3</td>\n",
       "      <td>1953.0</td>\n",
       "      <td>25.059181</td>\n",
       "      <td>27.510977</td>\n",
       "      <td>22.825891</td>\n",
       "      <td>1.187307</td>\n",
       "      <td>0.558208</td>\n",
       "    </tr>\n",
       "    <tr>\n",
       "      <th>3</th>\n",
       "      <td>4</td>\n",
       "      <td>2138.5</td>\n",
       "      <td>26.250004</td>\n",
       "      <td>29.636539</td>\n",
       "      <td>23.250444</td>\n",
       "      <td>0.505781</td>\n",
       "      <td>0.620104</td>\n",
       "    </tr>\n",
       "    <tr>\n",
       "      <th>4</th>\n",
       "      <td>5</td>\n",
       "      <td>3062.0</td>\n",
       "      <td>31.278170</td>\n",
       "      <td>31.443424</td>\n",
       "      <td>31.113785</td>\n",
       "      <td>3.031038</td>\n",
       "      <td>0.144420</td>\n",
       "    </tr>\n",
       "    <tr>\n",
       "      <th>5</th>\n",
       "      <td>6</td>\n",
       "      <td>2019.5</td>\n",
       "      <td>25.441195</td>\n",
       "      <td>26.642551</td>\n",
       "      <td>24.294010</td>\n",
       "      <td>0.537110</td>\n",
       "      <td>0.410524</td>\n",
       "    </tr>\n",
       "    <tr>\n",
       "      <th>6</th>\n",
       "      <td>7</td>\n",
       "      <td>3471.5</td>\n",
       "      <td>33.416872</td>\n",
       "      <td>34.482830</td>\n",
       "      <td>32.383865</td>\n",
       "      <td>3.101195</td>\n",
       "      <td>0.343562</td>\n",
       "    </tr>\n",
       "    <tr>\n",
       "      <th>7</th>\n",
       "      <td>8</td>\n",
       "      <td>1982.0</td>\n",
       "      <td>25.271773</td>\n",
       "      <td>26.258291</td>\n",
       "      <td>24.322317</td>\n",
       "      <td>0.228102</td>\n",
       "      <td>0.376856</td>\n",
       "    </tr>\n",
       "    <tr>\n",
       "      <th>8</th>\n",
       "      <td>9</td>\n",
       "      <td>1488.5</td>\n",
       "      <td>21.922918</td>\n",
       "      <td>22.155476</td>\n",
       "      <td>21.692801</td>\n",
       "      <td>0.685456</td>\n",
       "      <td>0.203298</td>\n",
       "    </tr>\n",
       "    <tr>\n",
       "      <th>9</th>\n",
       "      <td>10</td>\n",
       "      <td>1237.0</td>\n",
       "      <td>19.922814</td>\n",
       "      <td>21.230564</td>\n",
       "      <td>18.695618</td>\n",
       "      <td>0.228494</td>\n",
       "      <td>0.473862</td>\n",
       "    </tr>\n",
       "    <tr>\n",
       "      <th>10</th>\n",
       "      <td>11</td>\n",
       "      <td>346.5</td>\n",
       "      <td>10.613296</td>\n",
       "      <td>11.312236</td>\n",
       "      <td>9.957541</td>\n",
       "      <td>1.418775</td>\n",
       "      <td>0.474519</td>\n",
       "    </tr>\n",
       "    <tr>\n",
       "      <th>11</th>\n",
       "      <td>12</td>\n",
       "      <td>643.5</td>\n",
       "      <td>14.557711</td>\n",
       "      <td>16.096998</td>\n",
       "      <td>13.165620</td>\n",
       "      <td>0.858831</td>\n",
       "      <td>0.575371</td>\n",
       "    </tr>\n",
       "    <tr>\n",
       "      <th>12</th>\n",
       "      <td>13</td>\n",
       "      <td>238.5</td>\n",
       "      <td>8.848237</td>\n",
       "      <td>9.218331</td>\n",
       "      <td>8.493001</td>\n",
       "      <td>1.655907</td>\n",
       "      <td>0.388813</td>\n",
       "    </tr>\n",
       "  </tbody>\n",
       "</table>\n",
       "</div>"
      ],
      "text/plain": [
       "    cell_id    area    r_equiv      r_maj      r_min     angle       ecc\n",
       "0         1  4123.5  36.370828  37.970253  34.838776  1.186472  0.397671\n",
       "1         2  5199.0  40.748755  43.136539  38.493145  3.039086  0.451332\n",
       "2         3  1953.0  25.059181  27.510977  22.825891  1.187307  0.558208\n",
       "3         4  2138.5  26.250004  29.636539  23.250444  0.505781  0.620104\n",
       "4         5  3062.0  31.278170  31.443424  31.113785  3.031038  0.144420\n",
       "5         6  2019.5  25.441195  26.642551  24.294010  0.537110  0.410524\n",
       "6         7  3471.5  33.416872  34.482830  32.383865  3.101195  0.343562\n",
       "7         8  1982.0  25.271773  26.258291  24.322317  0.228102  0.376856\n",
       "8         9  1488.5  21.922918  22.155476  21.692801  0.685456  0.203298\n",
       "9        10  1237.0  19.922814  21.230564  18.695618  0.228494  0.473862\n",
       "10       11   346.5  10.613296  11.312236   9.957541  1.418775  0.474519\n",
       "11       12   643.5  14.557711  16.096998  13.165620  0.858831  0.575371\n",
       "12       13   238.5   8.848237   9.218331   8.493001  1.655907  0.388813"
      ]
     },
     "execution_count": 5,
     "metadata": {},
     "output_type": "execute_result"
    }
   ],
   "source": [
    "df_x"
   ]
  },
  {
   "cell_type": "code",
   "execution_count": 6,
   "metadata": {},
   "outputs": [
    {
     "data": {
      "text/html": [
       "<div>\n",
       "<style scoped>\n",
       "    .dataframe tbody tr th:only-of-type {\n",
       "        vertical-align: middle;\n",
       "    }\n",
       "\n",
       "    .dataframe tbody tr th {\n",
       "        vertical-align: top;\n",
       "    }\n",
       "\n",
       "    .dataframe thead th {\n",
       "        text-align: right;\n",
       "    }\n",
       "</style>\n",
       "<table border=\"1\" class=\"dataframe\">\n",
       "  <thead>\n",
       "    <tr style=\"text-align: right;\">\n",
       "      <th></th>\n",
       "      <th>cell_id1</th>\n",
       "      <th>cell_id2</th>\n",
       "      <th>cmtocm_x</th>\n",
       "      <th>cmtocm_y</th>\n",
       "      <th>cmtocm_len</th>\n",
       "      <th>cmtocm_angle</th>\n",
       "      <th>contour_dist</th>\n",
       "    </tr>\n",
       "  </thead>\n",
       "  <tbody>\n",
       "    <tr>\n",
       "      <th>0</th>\n",
       "      <td>1</td>\n",
       "      <td>2</td>\n",
       "      <td>-62.668399</td>\n",
       "      <td>-54.275559</td>\n",
       "      <td>82.904551</td>\n",
       "      <td>-2.427840</td>\n",
       "      <td>2.828427</td>\n",
       "    </tr>\n",
       "    <tr>\n",
       "      <th>1</th>\n",
       "      <td>1</td>\n",
       "      <td>3</td>\n",
       "      <td>57.795830</td>\n",
       "      <td>-10.663952</td>\n",
       "      <td>58.771403</td>\n",
       "      <td>-0.182459</td>\n",
       "      <td>2.000000</td>\n",
       "    </tr>\n",
       "    <tr>\n",
       "      <th>2</th>\n",
       "      <td>1</td>\n",
       "      <td>4</td>\n",
       "      <td>7.198670</td>\n",
       "      <td>61.049329</td>\n",
       "      <td>61.472282</td>\n",
       "      <td>1.453423</td>\n",
       "      <td>2.236068</td>\n",
       "    </tr>\n",
       "    <tr>\n",
       "      <th>3</th>\n",
       "      <td>1</td>\n",
       "      <td>6</td>\n",
       "      <td>52.785312</td>\n",
       "      <td>39.811841</td>\n",
       "      <td>66.115594</td>\n",
       "      <td>0.646198</td>\n",
       "      <td>2.828427</td>\n",
       "    </tr>\n",
       "    <tr>\n",
       "      <th>4</th>\n",
       "      <td>1</td>\n",
       "      <td>7</td>\n",
       "      <td>-65.603711</td>\n",
       "      <td>14.746680</td>\n",
       "      <td>67.240698</td>\n",
       "      <td>2.920484</td>\n",
       "      <td>2.236068</td>\n",
       "    </tr>\n",
       "    <tr>\n",
       "      <th>5</th>\n",
       "      <td>1</td>\n",
       "      <td>9</td>\n",
       "      <td>27.643688</td>\n",
       "      <td>-49.577610</td>\n",
       "      <td>56.763658</td>\n",
       "      <td>-1.062149</td>\n",
       "      <td>2.236068</td>\n",
       "    </tr>\n",
       "    <tr>\n",
       "      <th>6</th>\n",
       "      <td>2</td>\n",
       "      <td>1</td>\n",
       "      <td>62.668399</td>\n",
       "      <td>54.275559</td>\n",
       "      <td>82.904551</td>\n",
       "      <td>0.713753</td>\n",
       "      <td>2.828427</td>\n",
       "    </tr>\n",
       "    <tr>\n",
       "      <th>7</th>\n",
       "      <td>2</td>\n",
       "      <td>5</td>\n",
       "      <td>-18.451560</td>\n",
       "      <td>-65.213456</td>\n",
       "      <td>67.773556</td>\n",
       "      <td>-1.846530</td>\n",
       "      <td>2.828427</td>\n",
       "    </tr>\n",
       "    <tr>\n",
       "      <th>8</th>\n",
       "      <td>2</td>\n",
       "      <td>7</td>\n",
       "      <td>-2.935311</td>\n",
       "      <td>69.022238</td>\n",
       "      <td>69.084625</td>\n",
       "      <td>1.613298</td>\n",
       "      <td>2.000000</td>\n",
       "    </tr>\n",
       "    <tr>\n",
       "      <th>9</th>\n",
       "      <td>3</td>\n",
       "      <td>1</td>\n",
       "      <td>-57.795830</td>\n",
       "      <td>10.663952</td>\n",
       "      <td>58.771403</td>\n",
       "      <td>2.959134</td>\n",
       "      <td>2.000000</td>\n",
       "    </tr>\n",
       "    <tr>\n",
       "      <th>10</th>\n",
       "      <td>3</td>\n",
       "      <td>6</td>\n",
       "      <td>-5.010518</td>\n",
       "      <td>50.475793</td>\n",
       "      <td>50.723870</td>\n",
       "      <td>1.669738</td>\n",
       "      <td>2.828427</td>\n",
       "    </tr>\n",
       "    <tr>\n",
       "      <th>11</th>\n",
       "      <td>3</td>\n",
       "      <td>9</td>\n",
       "      <td>-30.152142</td>\n",
       "      <td>-38.913658</td>\n",
       "      <td>49.228289</td>\n",
       "      <td>-2.230011</td>\n",
       "      <td>2.236068</td>\n",
       "    </tr>\n",
       "    <tr>\n",
       "      <th>12</th>\n",
       "      <td>3</td>\n",
       "      <td>12</td>\n",
       "      <td>17.972361</td>\n",
       "      <td>-33.319487</td>\n",
       "      <td>37.857548</td>\n",
       "      <td>-1.076132</td>\n",
       "      <td>2.236068</td>\n",
       "    </tr>\n",
       "    <tr>\n",
       "      <th>13</th>\n",
       "      <td>4</td>\n",
       "      <td>1</td>\n",
       "      <td>-7.198670</td>\n",
       "      <td>-61.049329</td>\n",
       "      <td>61.472282</td>\n",
       "      <td>-1.688170</td>\n",
       "      <td>2.236068</td>\n",
       "    </tr>\n",
       "    <tr>\n",
       "      <th>14</th>\n",
       "      <td>4</td>\n",
       "      <td>6</td>\n",
       "      <td>45.586642</td>\n",
       "      <td>-21.237488</td>\n",
       "      <td>50.290882</td>\n",
       "      <td>-0.435973</td>\n",
       "      <td>2.236068</td>\n",
       "    </tr>\n",
       "    <tr>\n",
       "      <th>15</th>\n",
       "      <td>4</td>\n",
       "      <td>8</td>\n",
       "      <td>-26.371186</td>\n",
       "      <td>38.711873</td>\n",
       "      <td>46.840672</td>\n",
       "      <td>2.168805</td>\n",
       "      <td>2.236068</td>\n",
       "    </tr>\n",
       "    <tr>\n",
       "      <th>16</th>\n",
       "      <td>4</td>\n",
       "      <td>10</td>\n",
       "      <td>44.965713</td>\n",
       "      <td>23.476038</td>\n",
       "      <td>50.725139</td>\n",
       "      <td>0.481161</td>\n",
       "      <td>2.236068</td>\n",
       "    </tr>\n",
       "    <tr>\n",
       "      <th>17</th>\n",
       "      <td>5</td>\n",
       "      <td>2</td>\n",
       "      <td>18.451560</td>\n",
       "      <td>65.213456</td>\n",
       "      <td>67.773556</td>\n",
       "      <td>1.295063</td>\n",
       "      <td>2.828427</td>\n",
       "    </tr>\n",
       "    <tr>\n",
       "      <th>18</th>\n",
       "      <td>6</td>\n",
       "      <td>1</td>\n",
       "      <td>-52.785312</td>\n",
       "      <td>-39.811841</td>\n",
       "      <td>66.115594</td>\n",
       "      <td>-2.495395</td>\n",
       "      <td>2.828427</td>\n",
       "    </tr>\n",
       "    <tr>\n",
       "      <th>19</th>\n",
       "      <td>6</td>\n",
       "      <td>3</td>\n",
       "      <td>5.010518</td>\n",
       "      <td>-50.475793</td>\n",
       "      <td>50.723870</td>\n",
       "      <td>-1.471855</td>\n",
       "      <td>2.828427</td>\n",
       "    </tr>\n",
       "    <tr>\n",
       "      <th>20</th>\n",
       "      <td>6</td>\n",
       "      <td>4</td>\n",
       "      <td>-45.586642</td>\n",
       "      <td>21.237488</td>\n",
       "      <td>50.290882</td>\n",
       "      <td>2.705619</td>\n",
       "      <td>2.236068</td>\n",
       "    </tr>\n",
       "    <tr>\n",
       "      <th>21</th>\n",
       "      <td>6</td>\n",
       "      <td>10</td>\n",
       "      <td>-0.620929</td>\n",
       "      <td>44.713526</td>\n",
       "      <td>44.717837</td>\n",
       "      <td>1.584682</td>\n",
       "      <td>2.000000</td>\n",
       "    </tr>\n",
       "    <tr>\n",
       "      <th>22</th>\n",
       "      <td>6</td>\n",
       "      <td>13</td>\n",
       "      <td>22.693073</td>\n",
       "      <td>27.957910</td>\n",
       "      <td>36.008614</td>\n",
       "      <td>0.888970</td>\n",
       "      <td>2.236068</td>\n",
       "    </tr>\n",
       "    <tr>\n",
       "      <th>23</th>\n",
       "      <td>7</td>\n",
       "      <td>1</td>\n",
       "      <td>65.603711</td>\n",
       "      <td>-14.746680</td>\n",
       "      <td>67.240698</td>\n",
       "      <td>-0.221109</td>\n",
       "      <td>2.236068</td>\n",
       "    </tr>\n",
       "    <tr>\n",
       "      <th>24</th>\n",
       "      <td>7</td>\n",
       "      <td>2</td>\n",
       "      <td>2.935311</td>\n",
       "      <td>-69.022238</td>\n",
       "      <td>69.084625</td>\n",
       "      <td>-1.528295</td>\n",
       "      <td>2.000000</td>\n",
       "    </tr>\n",
       "    <tr>\n",
       "      <th>25</th>\n",
       "      <td>8</td>\n",
       "      <td>4</td>\n",
       "      <td>26.371186</td>\n",
       "      <td>-38.711873</td>\n",
       "      <td>46.840672</td>\n",
       "      <td>-0.972788</td>\n",
       "      <td>2.236068</td>\n",
       "    </tr>\n",
       "    <tr>\n",
       "      <th>26</th>\n",
       "      <td>8</td>\n",
       "      <td>11</td>\n",
       "      <td>-32.319457</td>\n",
       "      <td>14.498328</td>\n",
       "      <td>35.422434</td>\n",
       "      <td>2.719908</td>\n",
       "      <td>2.236068</td>\n",
       "    </tr>\n",
       "    <tr>\n",
       "      <th>27</th>\n",
       "      <td>9</td>\n",
       "      <td>1</td>\n",
       "      <td>-27.643688</td>\n",
       "      <td>49.577610</td>\n",
       "      <td>56.763658</td>\n",
       "      <td>2.079444</td>\n",
       "      <td>2.236068</td>\n",
       "    </tr>\n",
       "    <tr>\n",
       "      <th>28</th>\n",
       "      <td>9</td>\n",
       "      <td>3</td>\n",
       "      <td>30.152142</td>\n",
       "      <td>38.913658</td>\n",
       "      <td>49.228289</td>\n",
       "      <td>0.911582</td>\n",
       "      <td>2.236068</td>\n",
       "    </tr>\n",
       "    <tr>\n",
       "      <th>29</th>\n",
       "      <td>9</td>\n",
       "      <td>12</td>\n",
       "      <td>48.124503</td>\n",
       "      <td>5.594171</td>\n",
       "      <td>48.448555</td>\n",
       "      <td>0.115724</td>\n",
       "      <td>10.000000</td>\n",
       "    </tr>\n",
       "    <tr>\n",
       "      <th>30</th>\n",
       "      <td>10</td>\n",
       "      <td>4</td>\n",
       "      <td>-44.965713</td>\n",
       "      <td>-23.476038</td>\n",
       "      <td>50.725139</td>\n",
       "      <td>-2.660432</td>\n",
       "      <td>2.236068</td>\n",
       "    </tr>\n",
       "    <tr>\n",
       "      <th>31</th>\n",
       "      <td>10</td>\n",
       "      <td>6</td>\n",
       "      <td>0.620929</td>\n",
       "      <td>-44.713526</td>\n",
       "      <td>44.717837</td>\n",
       "      <td>-1.556910</td>\n",
       "      <td>2.000000</td>\n",
       "    </tr>\n",
       "    <tr>\n",
       "      <th>32</th>\n",
       "      <td>10</td>\n",
       "      <td>13</td>\n",
       "      <td>23.314002</td>\n",
       "      <td>-16.755616</td>\n",
       "      <td>28.710510</td>\n",
       "      <td>-0.623162</td>\n",
       "      <td>1.000000</td>\n",
       "    </tr>\n",
       "    <tr>\n",
       "      <th>33</th>\n",
       "      <td>11</td>\n",
       "      <td>8</td>\n",
       "      <td>32.319457</td>\n",
       "      <td>-14.498328</td>\n",
       "      <td>35.422434</td>\n",
       "      <td>-0.421684</td>\n",
       "      <td>2.236068</td>\n",
       "    </tr>\n",
       "    <tr>\n",
       "      <th>34</th>\n",
       "      <td>12</td>\n",
       "      <td>3</td>\n",
       "      <td>-17.972361</td>\n",
       "      <td>33.319487</td>\n",
       "      <td>37.857548</td>\n",
       "      <td>2.065461</td>\n",
       "      <td>2.236068</td>\n",
       "    </tr>\n",
       "    <tr>\n",
       "      <th>35</th>\n",
       "      <td>12</td>\n",
       "      <td>9</td>\n",
       "      <td>-48.124503</td>\n",
       "      <td>-5.594171</td>\n",
       "      <td>48.448555</td>\n",
       "      <td>-3.025868</td>\n",
       "      <td>10.000000</td>\n",
       "    </tr>\n",
       "    <tr>\n",
       "      <th>36</th>\n",
       "      <td>13</td>\n",
       "      <td>6</td>\n",
       "      <td>-22.693073</td>\n",
       "      <td>-27.957910</td>\n",
       "      <td>36.008614</td>\n",
       "      <td>-2.252623</td>\n",
       "      <td>2.236068</td>\n",
       "    </tr>\n",
       "    <tr>\n",
       "      <th>37</th>\n",
       "      <td>13</td>\n",
       "      <td>10</td>\n",
       "      <td>-23.314002</td>\n",
       "      <td>16.755616</td>\n",
       "      <td>28.710510</td>\n",
       "      <td>2.518431</td>\n",
       "      <td>1.000000</td>\n",
       "    </tr>\n",
       "  </tbody>\n",
       "</table>\n",
       "</div>"
      ],
      "text/plain": [
       "    cell_id1  cell_id2   cmtocm_x   cmtocm_y  cmtocm_len  cmtocm_angle  \\\n",
       "0          1         2 -62.668399 -54.275559   82.904551     -2.427840   \n",
       "1          1         3  57.795830 -10.663952   58.771403     -0.182459   \n",
       "2          1         4   7.198670  61.049329   61.472282      1.453423   \n",
       "3          1         6  52.785312  39.811841   66.115594      0.646198   \n",
       "4          1         7 -65.603711  14.746680   67.240698      2.920484   \n",
       "5          1         9  27.643688 -49.577610   56.763658     -1.062149   \n",
       "6          2         1  62.668399  54.275559   82.904551      0.713753   \n",
       "7          2         5 -18.451560 -65.213456   67.773556     -1.846530   \n",
       "8          2         7  -2.935311  69.022238   69.084625      1.613298   \n",
       "9          3         1 -57.795830  10.663952   58.771403      2.959134   \n",
       "10         3         6  -5.010518  50.475793   50.723870      1.669738   \n",
       "11         3         9 -30.152142 -38.913658   49.228289     -2.230011   \n",
       "12         3        12  17.972361 -33.319487   37.857548     -1.076132   \n",
       "13         4         1  -7.198670 -61.049329   61.472282     -1.688170   \n",
       "14         4         6  45.586642 -21.237488   50.290882     -0.435973   \n",
       "15         4         8 -26.371186  38.711873   46.840672      2.168805   \n",
       "16         4        10  44.965713  23.476038   50.725139      0.481161   \n",
       "17         5         2  18.451560  65.213456   67.773556      1.295063   \n",
       "18         6         1 -52.785312 -39.811841   66.115594     -2.495395   \n",
       "19         6         3   5.010518 -50.475793   50.723870     -1.471855   \n",
       "20         6         4 -45.586642  21.237488   50.290882      2.705619   \n",
       "21         6        10  -0.620929  44.713526   44.717837      1.584682   \n",
       "22         6        13  22.693073  27.957910   36.008614      0.888970   \n",
       "23         7         1  65.603711 -14.746680   67.240698     -0.221109   \n",
       "24         7         2   2.935311 -69.022238   69.084625     -1.528295   \n",
       "25         8         4  26.371186 -38.711873   46.840672     -0.972788   \n",
       "26         8        11 -32.319457  14.498328   35.422434      2.719908   \n",
       "27         9         1 -27.643688  49.577610   56.763658      2.079444   \n",
       "28         9         3  30.152142  38.913658   49.228289      0.911582   \n",
       "29         9        12  48.124503   5.594171   48.448555      0.115724   \n",
       "30        10         4 -44.965713 -23.476038   50.725139     -2.660432   \n",
       "31        10         6   0.620929 -44.713526   44.717837     -1.556910   \n",
       "32        10        13  23.314002 -16.755616   28.710510     -0.623162   \n",
       "33        11         8  32.319457 -14.498328   35.422434     -0.421684   \n",
       "34        12         3 -17.972361  33.319487   37.857548      2.065461   \n",
       "35        12         9 -48.124503  -5.594171   48.448555     -3.025868   \n",
       "36        13         6 -22.693073 -27.957910   36.008614     -2.252623   \n",
       "37        13        10 -23.314002  16.755616   28.710510      2.518431   \n",
       "\n",
       "    contour_dist  \n",
       "0       2.828427  \n",
       "1       2.000000  \n",
       "2       2.236068  \n",
       "3       2.828427  \n",
       "4       2.236068  \n",
       "5       2.236068  \n",
       "6       2.828427  \n",
       "7       2.828427  \n",
       "8       2.000000  \n",
       "9       2.000000  \n",
       "10      2.828427  \n",
       "11      2.236068  \n",
       "12      2.236068  \n",
       "13      2.236068  \n",
       "14      2.236068  \n",
       "15      2.236068  \n",
       "16      2.236068  \n",
       "17      2.828427  \n",
       "18      2.828427  \n",
       "19      2.828427  \n",
       "20      2.236068  \n",
       "21      2.000000  \n",
       "22      2.236068  \n",
       "23      2.236068  \n",
       "24      2.000000  \n",
       "25      2.236068  \n",
       "26      2.236068  \n",
       "27      2.236068  \n",
       "28      2.236068  \n",
       "29     10.000000  \n",
       "30      2.236068  \n",
       "31      2.000000  \n",
       "32      1.000000  \n",
       "33      2.236068  \n",
       "34      2.236068  \n",
       "35     10.000000  \n",
       "36      2.236068  \n",
       "37      1.000000  "
      ]
     },
     "execution_count": 6,
     "metadata": {},
     "output_type": "execute_result"
    }
   ],
   "source": [
    "df_e"
   ]
  },
  {
   "cell_type": "code",
   "execution_count": 7,
   "metadata": {},
   "outputs": [
    {
     "name": "stdout",
     "output_type": "stream",
     "text": [
      "DiGraph with 13 nodes and 38 edges\n"
     ]
    }
   ],
   "source": [
    "print(graph)"
   ]
  },
  {
   "cell_type": "code",
   "execution_count": 8,
   "metadata": {},
   "outputs": [
    {
     "data": {
      "text/plain": [
       "NodeView((1, 2, 3, 4, 5, 6, 7, 8, 9, 10, 11, 12, 13))"
      ]
     },
     "execution_count": 8,
     "metadata": {},
     "output_type": "execute_result"
    }
   ],
   "source": [
    "graph.nodes"
   ]
  },
  {
   "cell_type": "code",
   "execution_count": 9,
   "metadata": {},
   "outputs": [
    {
     "data": {
      "text/plain": [
       "OutEdgeView([(1, 2), (1, 3), (1, 4), (1, 6), (1, 7), (1, 9), (2, 1), (2, 5), (2, 7), (3, 1), (3, 6), (3, 9), (3, 12), (4, 1), (4, 6), (4, 8), (4, 10), (5, 2), (6, 1), (6, 3), (6, 4), (6, 10), (6, 13), (7, 1), (7, 2), (8, 4), (8, 11), (9, 1), (9, 3), (9, 12), (10, 4), (10, 6), (10, 13), (11, 8), (12, 3), (12, 9), (13, 6), (13, 10)])"
      ]
     },
     "execution_count": 9,
     "metadata": {},
     "output_type": "execute_result"
    }
   ],
   "source": [
    "graph.edges"
   ]
  },
  {
   "cell_type": "code",
   "execution_count": 10,
   "metadata": {},
   "outputs": [
    {
     "data": {
      "text/plain": [
       "{'cmtocm_x': -62.66839930758377,\n",
       " 'cmtocm_y': -54.275558542867486,\n",
       " 'cmtocm_len': 82.90455070088132,\n",
       " 'cmtocm_angle': -2.4278397102326994,\n",
       " 'contour_dist': 2.8284271247461903}"
      ]
     },
     "execution_count": 10,
     "metadata": {},
     "output_type": "execute_result"
    }
   ],
   "source": [
    "graph.edges[(1,2)]"
   ]
  },
  {
   "cell_type": "code",
   "execution_count": 11,
   "metadata": {},
   "outputs": [
    {
     "data": {
      "text/plain": [
       "{'area': 4123.5,\n",
       " 'r_equiv': 36.37082793584819,\n",
       " 'r_maj': 37.970252990722656,\n",
       " 'r_min': 34.838775634765625,\n",
       " 'angle': 1.1864723540922535,\n",
       " 'ecc': 0.39767085726783197}"
      ]
     },
     "execution_count": 11,
     "metadata": {},
     "output_type": "execute_result"
    }
   ],
   "source": [
    "graph.nodes[1]"
   ]
  },
  {
   "cell_type": "code",
   "execution_count": 12,
   "metadata": {},
   "outputs": [
    {
     "data": {
      "text/plain": [
       "OutEdgeView([(1, 2), (1, 3), (1, 4), (1, 6), (1, 7), (1, 9), (2, 1), (2, 5), (2, 7), (3, 1), (3, 6), (3, 9), (3, 12), (4, 1), (4, 6), (4, 8), (4, 10), (5, 2), (6, 1), (6, 3), (6, 4), (6, 10), (6, 13), (7, 1), (7, 2), (8, 4), (8, 11), (9, 1), (9, 3), (9, 12), (10, 4), (10, 6), (10, 13), (11, 8), (12, 3), (12, 9), (13, 6), (13, 10)])"
      ]
     },
     "execution_count": 12,
     "metadata": {},
     "output_type": "execute_result"
    }
   ],
   "source": [
    "graph.edges"
   ]
  },
  {
   "cell_type": "code",
   "execution_count": 13,
   "metadata": {},
   "outputs": [
    {
     "data": {
      "text/plain": [
       "(<Figure size 400x400 with 1 Axes>, <AxesSubplot:>)"
      ]
     },
     "execution_count": 13,
     "metadata": {},
     "output_type": "execute_result"
    },
    {
     "data": {
      "image/png": "[encoded data removed]",
      "text/plain": [
       "<Figure size 400x400 with 1 Axes>"
      ]
     },
     "metadata": {},
     "output_type": "display_data"
    }
   ],
   "source": [
    "figax = vis.plot_segmentation(seg, 100, alpha=0.5)\n",
    "vis.plot_cellids(seg, 100, figax=figax)\n",
    "vis.plot_graph(seg, 100, graph.edges, figax=figax)"
   ]
  },
  {
   "cell_type": "code",
   "execution_count": 14,
   "metadata": {},
   "outputs": [
    {
     "data": {
      "image/png": "[encoded data removed]",
      "text/plain": [
       "<Figure size 400x400 with 1 Axes>"
      ]
     },
     "metadata": {},
     "output_type": "display_data"
    }
   ],
   "source": [
    "figax = vis.plot_segmentation(seg, 100, alpha=0.5)\n",
    "nx.draw_networkx(graph,\n",
    "\tpos={ cell_id: cm[[1,0]] for cell_id, cm in zip(seg.cell_ids(100), seg.cms(100)) },\n",
    "\tnode_size=100,\n",
    "\tax=figax[1])"
   ]
  },
  {
   "cell_type": "markdown",
   "metadata": {},
   "source": [
    "# Build assignment graph"
   ]
  },
  {
   "cell_type": "markdown",
   "metadata": {},
   "source": [
    "**Testing for correctness**"
   ]
  },
  {
   "cell_type": "code",
   "execution_count": 15,
   "metadata": {},
   "outputs": [
    {
     "data": {
      "image/png": "[encoded data removed]",
      "text/plain": [
       "<Figure size 640x480 with 1 Axes>"
      ]
     },
     "metadata": {},
     "output_type": "display_data"
    },
    {
     "data": {
      "image/png": "[encoded data removed]",
      "text/plain": [
       "<Figure size 640x480 with 1 Axes>"
      ]
     },
     "metadata": {},
     "output_type": "display_data"
    },
    {
     "data": {
      "image/png": "[encoded data removed]",
      "text/plain": [
       "<Figure size 640x480 with 1 Axes>"
      ]
     },
     "metadata": {},
     "output_type": "display_data"
    },
    {
     "data": {
      "image/png": "[encoded data removed]",
      "text/plain": [
       "<Figure size 640x480 with 1 Axes>"
      ]
     },
     "metadata": {},
     "output_type": "display_data"
    }
   ],
   "source": [
    "g_isol = nx.Graph()\n",
    "g_isol.add_nodes_from(['c'])\n",
    "for g1, g2 in (\n",
    "\t(\n",
    "\t\tnx.Graph([(1, 2), (2, 3), (3, 1)]).to_directed(),\n",
    "\t\tg_isol.to_directed()\n",
    "\t),\n",
    "\t(\n",
    "\t\tnx.Graph([(1, 2), (2, 3), (3, 1)]).to_directed(),\n",
    "\t\tnx.Graph([('a', 'b')]).to_directed(),\n",
    "\t),\n",
    "\t(\n",
    "\t\tnx.Graph([(1, 2), (2, 3), (3, 1), (2, 4)]).to_directed(),\n",
    "\t\tnx.Graph([('a', 'b')]).to_directed(),\n",
    "\t),\n",
    "\t(\n",
    "\t\tnx.Graph([(1, 2), (1, 3), (2, 3)]).to_directed(),\n",
    "\t\tnx.Graph([('a', 'b'), ('a', 'c'), ('b', 'a'), ('b', 'd')]).to_directed(),\n",
    "\t),\n",
    "):\n",
    "\tga = tracking.build_assgraph(g1, g2)\n",
    "\tnx.draw_networkx(ga, pos=nx.spring_layout(ga, seed=10))\n",
    "\tplt.show()"
   ]
  },
  {
   "cell_type": "markdown",
   "metadata": {},
   "source": [
    "**Real scenario test**"
   ]
  },
  {
   "cell_type": "code",
   "execution_count": 16,
   "metadata": {},
   "outputs": [],
   "source": [
    "g1 = tracking.build_cellgraph(feat, 100)\n",
    "g2 = tracking.build_cellgraph(feat, 101)\n",
    "ga = tracking.build_assgraph(g1, g2, include_target_feature=True)"
   ]
  },
  {
   "cell_type": "code",
   "execution_count": 17,
   "metadata": {},
   "outputs": [
    {
     "data": {
      "text/plain": [
       "NodeView((1, 2, 3, 4, 5, 6, 7, 8, 9, 10, 11, 12, 13))"
      ]
     },
     "execution_count": 17,
     "metadata": {},
     "output_type": "execute_result"
    }
   ],
   "source": [
    "g1.nodes"
   ]
  },
  {
   "cell_type": "code",
   "execution_count": 18,
   "metadata": {},
   "outputs": [
    {
     "data": {
      "text/plain": [
       "NodeView((1, 2, 3, 4, 5, 6, 7, 8, 9, 10, 11, 12, 13, 14))"
      ]
     },
     "execution_count": 18,
     "metadata": {},
     "output_type": "execute_result"
    }
   ],
   "source": [
    "g2.nodes"
   ]
  },
  {
   "cell_type": "code",
   "execution_count": 19,
   "metadata": {},
   "outputs": [
    {
     "name": "stdout",
     "output_type": "stream",
     "text": [
      "DiGraph with 13 nodes and 38 edges\n",
      "DiGraph with 14 nodes and 40 edges\n",
      "DiGraph with 182 nodes and 1520 edges\n"
     ]
    }
   ],
   "source": [
    "print(g1, g2, sep='\\n')\n",
    "print(ga)"
   ]
  },
  {
   "cell_type": "code",
   "execution_count": 20,
   "metadata": {},
   "outputs": [
    {
     "data": {
      "text/plain": [
       "{'area_1': 1982.0,\n",
       " 'r_equiv_1': 25.27177252920413,\n",
       " 'r_maj_1': 26.258291244506836,\n",
       " 'r_min_1': 24.322317123413086,\n",
       " 'angle_1': 0.22810241052637714,\n",
       " 'ecc_1': 0.3768559157913531,\n",
       " 'area_2': 357.0,\n",
       " 'r_equiv_2': 10.715117968324732,\n",
       " 'r_maj_2': 11.433597564697266,\n",
       " 'r_min_2': 10.041787147521973,\n",
       " 'angle_2': 1.6728791363164575,\n",
       " 'ecc_2': 0.4781648144834072,\n",
       " 'y': 0}"
      ]
     },
     "execution_count": 20,
     "metadata": {},
     "output_type": "execute_result"
    }
   ],
   "source": [
    "ga.nodes[(8, 11)]  # cell 8 in first frame, cell 11 in second frame"
   ]
  },
  {
   "cell_type": "code",
   "execution_count": 21,
   "metadata": {},
   "outputs": [
    {
     "data": {
      "text/plain": [
       "{'area_1': 346.5,\n",
       " 'r_equiv_1': 10.613295745504013,\n",
       " 'r_maj_1': 11.312235832214355,\n",
       " 'r_min_1': 9.957540512084961,\n",
       " 'angle_1': 1.4187748359737942,\n",
       " 'ecc_1': 0.47451924022351794,\n",
       " 'area_2': 1851.0,\n",
       " 'r_equiv_2': 24.327099926287687,\n",
       " 'r_maj_2': 25.666370391845703,\n",
       " 'r_min_2': 23.05771255493164,\n",
       " 'angle_2': 2.9752908935295226,\n",
       " 'ecc_2': 0.43925421649002594,\n",
       " 'y': 0}"
      ]
     },
     "execution_count": 21,
     "metadata": {},
     "output_type": "execute_result"
    }
   ],
   "source": [
    "ga.nodes[(11, 8)]  # cell 11 in first frame, cell 8 in second frame"
   ]
  },
  {
   "cell_type": "code",
   "execution_count": 30,
   "metadata": {},
   "outputs": [
    {
     "data": {
      "text/plain": [
       "{'area_1': 346.5,\n",
       " 'r_equiv_1': 10.613295745504013,\n",
       " 'r_maj_1': 11.312235832214355,\n",
       " 'r_min_1': 9.957540512084961,\n",
       " 'angle_1': 1.4187748359737942,\n",
       " 'ecc_1': 0.47451924022351794,\n",
       " 'area_2': 357.0,\n",
       " 'r_equiv_2': 10.715117968324732,\n",
       " 'r_maj_2': 11.433597564697266,\n",
       " 'r_min_2': 10.041787147521973,\n",
       " 'angle_2': 1.6728791363164575,\n",
       " 'ecc_2': 0.4781648144834072,\n",
       " 'y': 1}"
      ]
     },
     "execution_count": 30,
     "metadata": {},
     "output_type": "execute_result"
    }
   ],
   "source": [
    "ga.nodes[(11, 11)]  # cell 11 in first frame, cell 11 in second frame\n",
    "# this is correct ! (y == 1)"
   ]
  },
  {
   "cell_type": "code",
   "execution_count": 22,
   "metadata": {},
   "outputs": [
    {
     "data": {
      "text/plain": [
       "{'cmtocm_x_1': -62.66839930758377,\n",
       " 'cmtocm_y_1': -54.275558542867486,\n",
       " 'cmtocm_len_1': 82.90455070088132,\n",
       " 'cmtocm_angle_1': -2.4278397102326994,\n",
       " 'contour_dist_1': 2.8284271247461903,\n",
       " 'cmtocm_x_2': -3.3681490237755156,\n",
       " 'cmtocm_y_2': 68.86157132162685,\n",
       " 'cmtocm_len_2': 68.94389336793986,\n",
       " 'cmtocm_angle_2': 1.619669259154257,\n",
       " 'contour_dist_2': 2.0}"
      ]
     },
     "execution_count": 22,
     "metadata": {},
     "output_type": "execute_result"
    }
   ],
   "source": [
    "ga.edges[((1, 2), (2, 7))]  # track 1 -> 2 and 2 -> 7"
   ]
  },
  {
   "cell_type": "code",
   "execution_count": 23,
   "metadata": {},
   "outputs": [
    {
     "data": {
      "text/plain": [
       "{'cmtocm_x_1': 62.66839930758377,\n",
       " 'cmtocm_y_1': 54.275558542867486,\n",
       " 'cmtocm_len_1': 82.90455070088132,\n",
       " 'cmtocm_angle_1': 0.7137529433570937,\n",
       " 'contour_dist_1': 2.8284271247461903,\n",
       " 'cmtocm_x_2': 3.3681490237755156,\n",
       " 'cmtocm_y_2': -68.86157132162685,\n",
       " 'cmtocm_len_2': 68.94389336793986,\n",
       " 'cmtocm_angle_2': -1.5219233944355361,\n",
       " 'contour_dist_2': 2.0}"
      ]
     },
     "execution_count": 23,
     "metadata": {},
     "output_type": "execute_result"
    }
   ],
   "source": [
    "ga.edges[((2, 7), (1, 2))]  # track 2 -> 7 and 1 -> 2"
   ]
  },
  {
   "cell_type": "markdown",
   "metadata": {},
   "source": [
    "**Interface between pytorch and actual trackings**"
   ]
  },
  {
   "cell_type": "code",
   "execution_count": 39,
   "metadata": {},
   "outputs": [
    {
     "name": "stdout",
     "output_type": "stream",
     "text": [
      "Data(edge_index=[2, 1520], y=[182, 1], x=[182, 12], edge_attr=[1520, 10])\n",
      "['area_1', 'r_equiv_1', 'r_maj_1', 'r_min_1', 'angle_1', 'ecc_1', 'area_2', 'r_equiv_2', 'r_maj_2', 'r_min_2', 'angle_2', 'ecc_2']\n",
      "['cmtocm_x_1', 'cmtocm_y_1', 'cmtocm_len_1', 'cmtocm_angle_1', 'contour_dist_1', 'cmtocm_x_2', 'cmtocm_y_2', 'cmtocm_len_2', 'cmtocm_angle_2', 'contour_dist_2']\n"
     ]
    }
   ],
   "source": [
    "tga, node_attrs, edge_attrs = tracking.to_data(ga)\n",
    "print(tga, node_attrs, edge_attrs, sep='\\n')"
   ]
  },
  {
   "cell_type": "code",
   "execution_count": 40,
   "metadata": {},
   "outputs": [
    {
     "data": {
      "text/plain": [
       "tensor([[  0,   0,   0,  ..., 180, 181, 181],\n",
       "        [ 15,  16,  17,  ..., 135,  78, 134]])"
      ]
     },
     "execution_count": 40,
     "metadata": {},
     "output_type": "execute_result"
    }
   ],
   "source": [
    "tga.edge_index"
   ]
  },
  {
   "cell_type": "code",
   "execution_count": 41,
   "metadata": {},
   "outputs": [],
   "source": [
    "tganode_to_nxnode = { node_idx: node_ids for node_idx, node_ids in zip(range(len(tga.x)), ga.nodes) }\n",
    "for node_idx, node_ids in tganode_to_nxnode.items():\n",
    "\tassert tracking.to_node_ids(node_idx, g1, g2) == node_ids"
   ]
  },
  {
   "cell_type": "code",
   "execution_count": 47,
   "metadata": {},
   "outputs": [
    {
     "data": {
      "text/plain": [
       "array([[0., 0., 0., 0., 0., 0., 0., 0., 0., 0., 0., 0., 0., 0.],\n",
       "       [0., 0., 0., 0., 0., 0., 0., 0., 0., 0., 0., 0., 0., 0.],\n",
       "       [0., 0., 0., 0., 0., 0., 0., 0., 0., 0., 0., 0., 0., 0.],\n",
       "       [0., 0., 0., 0., 0., 0., 0., 0., 0., 0., 0., 0., 0., 0.],\n",
       "       [0., 0., 0., 0., 0., 0., 0., 0., 0., 0., 0., 0., 0., 0.],\n",
       "       [0., 0., 0., 0., 0., 0., 0., 0., 0., 0., 0., 0., 0., 0.],\n",
       "       [0., 0., 0., 0., 0., 0., 0., 0., 0., 0., 0., 0., 0., 0.],\n",
       "       [0., 0., 0., 0., 0., 0., 0., 0., 0., 0., 0., 0., 0., 0.],\n",
       "       [0., 0., 0., 0., 0., 0., 0., 0., 0., 0., 0., 0., 0., 0.],\n",
       "       [0., 0., 0., 0., 0., 0., 0., 0., 0., 0., 0., 0., 0., 0.],\n",
       "       [0., 0., 0., 0., 0., 0., 0., 0., 0., 0., 0., 0., 0., 0.],\n",
       "       [0., 0., 0., 0., 0., 0., 0., 0., 0., 0., 0., 0., 0., 0.],\n",
       "       [0., 0., 0., 0., 0., 0., 0., 0., 0., 0., 0., 0., 0., 0.]])"
      ]
     },
     "execution_count": 47,
     "metadata": {},
     "output_type": "execute_result"
    }
   ],
   "source": [
    "# Simulate a tracking result\n",
    "# Nodes of the assignment graph get binary classified\n",
    "ass = np.zeros(tga.x.shape[0]).reshape((g1.number_of_nodes(), g2.number_of_nodes()))\n",
    "ass"
   ]
  },
  {
   "cell_type": "code",
   "execution_count": 46,
   "metadata": {},
   "outputs": [
    {
     "data": {
      "text/plain": [
       "tensor([[1, 0, 0, 0, 0, 0, 0, 0, 0, 0, 0, 0, 0, 0],\n",
       "        [0, 1, 0, 0, 0, 0, 0, 0, 0, 0, 0, 0, 0, 0],\n",
       "        [0, 0, 1, 0, 0, 0, 0, 0, 0, 0, 0, 0, 0, 0],\n",
       "        [0, 0, 0, 1, 0, 0, 0, 0, 0, 0, 0, 0, 0, 0],\n",
       "        [0, 0, 0, 0, 1, 0, 0, 0, 0, 0, 0, 0, 0, 0],\n",
       "        [0, 0, 0, 0, 0, 1, 0, 0, 0, 0, 0, 0, 0, 0],\n",
       "        [0, 0, 0, 0, 0, 0, 1, 0, 0, 0, 0, 0, 0, 0],\n",
       "        [0, 0, 0, 0, 0, 0, 0, 1, 0, 0, 0, 0, 0, 0],\n",
       "        [0, 0, 0, 0, 0, 0, 0, 0, 1, 0, 0, 0, 0, 0],\n",
       "        [0, 0, 0, 0, 0, 0, 0, 0, 0, 1, 0, 0, 0, 0],\n",
       "        [0, 0, 0, 0, 0, 0, 0, 0, 0, 0, 1, 0, 0, 0],\n",
       "        [0, 0, 0, 0, 0, 0, 0, 0, 0, 0, 0, 1, 0, 0],\n",
       "        [0, 0, 0, 0, 0, 0, 0, 0, 0, 0, 0, 0, 1, 0]])"
      ]
     },
     "execution_count": 46,
     "metadata": {},
     "output_type": "execute_result"
    }
   ],
   "source": [
    "ass_gt = tga.y.reshape((g1.number_of_nodes(), g2.number_of_nodes()))\n",
    "ass_gt"
   ]
  }
 ],
 "metadata": {
  "kernelspec": {
   "display_name": "Python 3.7.13 ('bread')",
   "language": "python",
   "name": "python3"
  },
  "language_info": {
   "codemirror_mode": {
    "name": "ipython",
    "version": 3
   },
   "file_extension": ".py",
   "mimetype": "text/x-python",
   "name": "python",
   "nbconvert_exporter": "python",
   "pygments_lexer": "ipython3",
   "version": "3.7.13"
  },
  "orig_nbformat": 4,
  "vscode": {
   "interpreter": {
    "hash": "58ee94b77d5a79709d8508177f82524efb55041b554c3ae28ec17cfae1ccaaab"
   }
  }
 },
 "nbformat": 4,
 "nbformat_minor": 2
}

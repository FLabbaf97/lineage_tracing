{
 "cells": [
  {
   "cell_type": "code",
   "execution_count": 1,
   "metadata": {},
   "outputs": [],
   "source": [
    "from bread.vis import *\n",
    "from bread.data import Features, SegmentationFile, Microscopy\n",
    "from bread.algo.lineage import LineageGuesser, LineageGuesserNN, LineageGuesserML, LineageGuesserNearestCell, accuracy\n",
    "from bread.data import Lineage\n",
    "\n",
    "import pandas as pd\n",
    "import pathlib\n",
    "import os"
   ]
  },
  {
   "attachments": {},
   "cell_type": "markdown",
   "metadata": {},
   "source": [
    "# test for colony 0 to 5 individually\n"
   ]
  },
  {
   "cell_type": "code",
   "execution_count": 4,
   "metadata": {},
   "outputs": [
    {
     "name": "stderr",
     "output_type": "stream",
     "text": [
      "/Users/farzanehwork/Documents/codes/bread/src/bread/algo/lineage/_lineage.py:959: NotEnoughFramesWarning: Not enough frames in the movie (bud #76 at frame #174), requested 8, but only 7 remaining.\n",
      "  warnings.warn(NotEnoughFramesWarning(bud_id, time_id, self.num_frames, len(frame_range)))\n",
      "/Users/farzanehwork/Documents/codes/bread/src/bread/algo/lineage/_lineage.py:959: NotEnoughFramesWarning: Not enough frames in the movie (bud #77 at frame #175), requested 8, but only 6 remaining.\n",
      "  warnings.warn(NotEnoughFramesWarning(bud_id, time_id, self.num_frames, len(frame_range)))\n",
      "/Users/farzanehwork/Documents/codes/bread/src/bread/algo/lineage/_lineage.py:959: NotEnoughFramesWarning: Not enough frames in the movie (bud #78 at frame #175), requested 8, but only 6 remaining.\n",
      "  warnings.warn(NotEnoughFramesWarning(bud_id, time_id, self.num_frames, len(frame_range)))\n",
      "/Users/farzanehwork/Documents/codes/bread/src/bread/algo/lineage/_lineage.py:959: NotEnoughFramesWarning: Not enough frames in the movie (bud #79 at frame #176), requested 8, but only 5 remaining.\n",
      "  warnings.warn(NotEnoughFramesWarning(bud_id, time_id, self.num_frames, len(frame_range)))\n",
      "/Users/farzanehwork/Documents/codes/bread/src/bread/algo/lineage/_lineage.py:959: NotEnoughFramesWarning: Not enough frames in the movie (bud #80 at frame #178), requested 8, but only 3 remaining.\n",
      "  warnings.warn(NotEnoughFramesWarning(bud_id, time_id, self.num_frames, len(frame_range)))\n",
      "/Users/farzanehwork/Documents/codes/bread/src/bread/algo/lineage/_lineage.py:959: NotEnoughFramesWarning: Not enough frames in the movie (bud #81 at frame #178), requested 8, but only 3 remaining.\n",
      "  warnings.warn(NotEnoughFramesWarning(bud_id, time_id, self.num_frames, len(frame_range)))\n",
      "/Users/farzanehwork/Documents/codes/bread/src/bread/algo/lineage/_lineage.py:959: NotEnoughFramesWarning: Not enough frames in the movie (bud #82 at frame #179), requested 8, but only 2 remaining.\n",
      "  warnings.warn(NotEnoughFramesWarning(bud_id, time_id, self.num_frames, len(frame_range)))\n",
      "/Users/farzanehwork/Documents/codes/bread/src/bread/algo/lineage/_lineage.py:959: NotEnoughFramesWarning: Not enough frames in the movie (bud #147 at frame #174), requested 8, but only 7 remaining.\n",
      "  warnings.warn(NotEnoughFramesWarning(bud_id, time_id, self.num_frames, len(frame_range)))\n",
      "/Users/farzanehwork/Documents/codes/bread/src/bread/algo/lineage/_lineage.py:959: NotEnoughFramesWarning: Not enough frames in the movie (bud #148 at frame #175), requested 8, but only 6 remaining.\n",
      "  warnings.warn(NotEnoughFramesWarning(bud_id, time_id, self.num_frames, len(frame_range)))\n",
      "/Users/farzanehwork/Documents/codes/bread/src/bread/algo/lineage/_lineage.py:959: NotEnoughFramesWarning: Not enough frames in the movie (bud #149 at frame #176), requested 8, but only 5 remaining.\n",
      "  warnings.warn(NotEnoughFramesWarning(bud_id, time_id, self.num_frames, len(frame_range)))\n",
      "/Users/farzanehwork/Documents/codes/bread/src/bread/algo/lineage/_lineage.py:959: NotEnoughFramesWarning: Not enough frames in the movie (bud #150 at frame #178), requested 8, but only 3 remaining.\n",
      "  warnings.warn(NotEnoughFramesWarning(bud_id, time_id, self.num_frames, len(frame_range)))\n",
      "/Users/farzanehwork/Documents/codes/bread/src/bread/algo/lineage/_lineage.py:959: NotEnoughFramesWarning: Not enough frames in the movie (bud #151 at frame #178), requested 8, but only 3 remaining.\n",
      "  warnings.warn(NotEnoughFramesWarning(bud_id, time_id, self.num_frames, len(frame_range)))\n",
      "/Users/farzanehwork/Documents/codes/bread/src/bread/algo/lineage/_lineage.py:959: NotEnoughFramesWarning: Not enough frames in the movie (bud #152 at frame #179), requested 8, but only 2 remaining.\n",
      "  warnings.warn(NotEnoughFramesWarning(bud_id, time_id, self.num_frames, len(frame_range)))\n",
      "/Users/farzanehwork/Documents/codes/bread/src/bread/algo/lineage/_lineage.py:141: NoGuessWarning: Unable to determine parent for bud #153 in frame #180. Got error NotEnoughFramesException('Not enough frames in the movie (bud #153 at frame #180), requested 8, but only 1 remaining (need at least 2).')\n",
      "  warnings.warn(LineageGuesser.NoGuessWarning(bud_id, time_id, e))\n",
      "/Users/farzanehwork/Documents/codes/bread/src/bread/algo/lineage/_lineage.py:141: NoGuessWarning: Unable to determine parent for bud #154 in frame #180. Got error NotEnoughFramesException('Not enough frames in the movie (bud #154 at frame #180), requested 8, but only 1 remaining (need at least 2).')\n",
      "  warnings.warn(LineageGuesser.NoGuessWarning(bud_id, time_id, e))\n",
      "/Users/farzanehwork/Documents/codes/bread/src/bread/algo/lineage/_lineage.py:141: NoGuessWarning: Unable to determine parent for bud #155 in frame #180. Got error NotEnoughFramesException('Not enough frames in the movie (bud #155 at frame #180), requested 8, but only 1 remaining (need at least 2).')\n",
      "  warnings.warn(LineageGuesser.NoGuessWarning(bud_id, time_id, e))\n",
      "/Users/farzanehwork/Documents/codes/bread/src/bread/algo/lineage/_lineage.py:141: NoGuessWarning: Unable to determine parent for bud #73 in frame #163. Got error CellMissingException('Unable to find cell_id=53 at time_id=167 in the segmentation.')\n",
      "  warnings.warn(LineageGuesser.NoGuessWarning(bud_id, time_id, e))\n",
      "/Users/farzanehwork/Documents/codes/bread/src/bread/algo/lineage/_lineage.py:219: BreadWarning: cell #77 does not have nearest neighbours with a distance less than 12, and flexible_threshold is False.\n",
      "  warnings.warn(BreadWarning(f'cell #{nearest_neighbours_of} does not have nearest neighbours with a distance less than {self.nn_threshold}, and flexible_threshold is {self.flexible_nn_threshold}.'))\n",
      "/Users/farzanehwork/Documents/codes/bread/src/bread/algo/lineage/_lineage.py:959: NotEnoughFramesWarning: Not enough frames in the movie (bud #86 at frame #174), requested 8, but only 7 remaining.\n",
      "  warnings.warn(NotEnoughFramesWarning(bud_id, time_id, self.num_frames, len(frame_range)))\n",
      "/Users/farzanehwork/Documents/codes/bread/src/bread/algo/lineage/_lineage.py:959: NotEnoughFramesWarning: Not enough frames in the movie (bud #87 at frame #175), requested 8, but only 6 remaining.\n",
      "  warnings.warn(NotEnoughFramesWarning(bud_id, time_id, self.num_frames, len(frame_range)))\n",
      "/Users/farzanehwork/Documents/codes/bread/src/bread/algo/lineage/_lineage.py:959: NotEnoughFramesWarning: Not enough frames in the movie (bud #88 at frame #175), requested 8, but only 6 remaining.\n",
      "  warnings.warn(NotEnoughFramesWarning(bud_id, time_id, self.num_frames, len(frame_range)))\n",
      "/Users/farzanehwork/Documents/codes/bread/src/bread/algo/lineage/_lineage.py:959: NotEnoughFramesWarning: Not enough frames in the movie (bud #89 at frame #177), requested 8, but only 4 remaining.\n",
      "  warnings.warn(NotEnoughFramesWarning(bud_id, time_id, self.num_frames, len(frame_range)))\n",
      "/Users/farzanehwork/Documents/codes/bread/src/bread/algo/lineage/_lineage.py:959: NotEnoughFramesWarning: Not enough frames in the movie (bud #90 at frame #177), requested 8, but only 4 remaining.\n",
      "  warnings.warn(NotEnoughFramesWarning(bud_id, time_id, self.num_frames, len(frame_range)))\n",
      "/Users/farzanehwork/Documents/codes/bread/src/bread/algo/lineage/_lineage.py:959: NotEnoughFramesWarning: Not enough frames in the movie (bud #91 at frame #178), requested 8, but only 3 remaining.\n",
      "  warnings.warn(NotEnoughFramesWarning(bud_id, time_id, self.num_frames, len(frame_range)))\n",
      "/Users/farzanehwork/Documents/codes/bread/src/bread/algo/lineage/_lineage.py:959: NotEnoughFramesWarning: Not enough frames in the movie (bud #92 at frame #178), requested 8, but only 3 remaining.\n",
      "  warnings.warn(NotEnoughFramesWarning(bud_id, time_id, self.num_frames, len(frame_range)))\n",
      "/Users/farzanehwork/Documents/codes/bread/src/bread/algo/lineage/_lineage.py:959: NotEnoughFramesWarning: Not enough frames in the movie (bud #93 at frame #178), requested 8, but only 3 remaining.\n",
      "  warnings.warn(NotEnoughFramesWarning(bud_id, time_id, self.num_frames, len(frame_range)))\n",
      "/Users/farzanehwork/Documents/codes/bread/src/bread/algo/lineage/_lineage.py:959: NotEnoughFramesWarning: Not enough frames in the movie (bud #94 at frame #178), requested 8, but only 3 remaining.\n",
      "  warnings.warn(NotEnoughFramesWarning(bud_id, time_id, self.num_frames, len(frame_range)))\n",
      "/Users/farzanehwork/Documents/codes/bread/src/bread/algo/lineage/_lineage.py:959: NotEnoughFramesWarning: Not enough frames in the movie (bud #95 at frame #179), requested 8, but only 2 remaining.\n",
      "  warnings.warn(NotEnoughFramesWarning(bud_id, time_id, self.num_frames, len(frame_range)))\n",
      "/Users/farzanehwork/Documents/codes/bread/src/bread/algo/lineage/_lineage.py:141: NoGuessWarning: Unable to determine parent for bud #96 in frame #180. Got error NotEnoughFramesException('Not enough frames in the movie (bud #96 at frame #180), requested 8, but only 1 remaining (need at least 2).')\n",
      "  warnings.warn(LineageGuesser.NoGuessWarning(bud_id, time_id, e))\n",
      "/Users/farzanehwork/Documents/codes/bread/src/bread/algo/lineage/_lineage.py:141: NoGuessWarning: Unable to determine parent for bud #97 in frame #180. Got error NotEnoughFramesException('Not enough frames in the movie (bud #97 at frame #180), requested 8, but only 1 remaining (need at least 2).')\n",
      "  warnings.warn(LineageGuesser.NoGuessWarning(bud_id, time_id, e))\n",
      "/Users/farzanehwork/Documents/codes/bread/src/bread/algo/lineage/_lineage.py:141: NoGuessWarning: Unable to determine parent for bud #40 in frame #123. Got error BudVanishedException('Bud #40 vanished in between frame 123 to 124.')\n",
      "  warnings.warn(LineageGuesser.NoGuessWarning(bud_id, time_id, e))\n",
      "/Users/farzanehwork/Documents/codes/bread/src/bread/algo/lineage/_lineage.py:141: NoGuessWarning: Unable to determine parent for bud #80 in frame #154. Got error BudVanishedException('Bud #80 vanished in between frame 160 to 161.')\n",
      "  warnings.warn(LineageGuesser.NoGuessWarning(bud_id, time_id, e))\n",
      "/Users/farzanehwork/Documents/codes/bread/src/bread/algo/lineage/_lineage.py:141: NoGuessWarning: Unable to determine parent for bud #101 in frame #169. Got error BudVanishedException('Bud #101 vanished in between frame 169 to 170.')\n",
      "  warnings.warn(LineageGuesser.NoGuessWarning(bud_id, time_id, e))\n",
      "/Users/farzanehwork/Documents/codes/bread/src/bread/algo/lineage/_lineage.py:219: BreadWarning: cell #110 does not have nearest neighbours with a distance less than 12, and flexible_threshold is False.\n",
      "  warnings.warn(BreadWarning(f'cell #{nearest_neighbours_of} does not have nearest neighbours with a distance less than {self.nn_threshold}, and flexible_threshold is {self.flexible_nn_threshold}.'))\n",
      "/Users/farzanehwork/Documents/codes/bread/src/bread/algo/lineage/_lineage.py:959: NotEnoughFramesWarning: Not enough frames in the movie (bud #112 at frame #174), requested 8, but only 7 remaining.\n",
      "  warnings.warn(NotEnoughFramesWarning(bud_id, time_id, self.num_frames, len(frame_range)))\n",
      "/Users/farzanehwork/Documents/codes/bread/src/bread/algo/lineage/_lineage.py:959: NotEnoughFramesWarning: Not enough frames in the movie (bud #113 at frame #174), requested 8, but only 7 remaining.\n",
      "  warnings.warn(NotEnoughFramesWarning(bud_id, time_id, self.num_frames, len(frame_range)))\n",
      "/Users/farzanehwork/Documents/codes/bread/src/bread/algo/lineage/_lineage.py:959: NotEnoughFramesWarning: Not enough frames in the movie (bud #114 at frame #174), requested 8, but only 7 remaining.\n",
      "  warnings.warn(NotEnoughFramesWarning(bud_id, time_id, self.num_frames, len(frame_range)))\n",
      "/Users/farzanehwork/Documents/codes/bread/src/bread/algo/lineage/_lineage.py:959: NotEnoughFramesWarning: Not enough frames in the movie (bud #115 at frame #175), requested 8, but only 6 remaining.\n",
      "  warnings.warn(NotEnoughFramesWarning(bud_id, time_id, self.num_frames, len(frame_range)))\n",
      "/Users/farzanehwork/Documents/codes/bread/src/bread/algo/lineage/_lineage.py:959: NotEnoughFramesWarning: Not enough frames in the movie (bud #116 at frame #175), requested 8, but only 6 remaining.\n",
      "  warnings.warn(NotEnoughFramesWarning(bud_id, time_id, self.num_frames, len(frame_range)))\n",
      "/Users/farzanehwork/Documents/codes/bread/src/bread/algo/lineage/_lineage.py:959: NotEnoughFramesWarning: Not enough frames in the movie (bud #117 at frame #175), requested 8, but only 6 remaining.\n",
      "  warnings.warn(NotEnoughFramesWarning(bud_id, time_id, self.num_frames, len(frame_range)))\n",
      "/Users/farzanehwork/Documents/codes/bread/src/bread/algo/lineage/_lineage.py:959: NotEnoughFramesWarning: Not enough frames in the movie (bud #118 at frame #175), requested 8, but only 6 remaining.\n",
      "  warnings.warn(NotEnoughFramesWarning(bud_id, time_id, self.num_frames, len(frame_range)))\n",
      "/Users/farzanehwork/Documents/codes/bread/src/bread/algo/lineage/_lineage.py:959: NotEnoughFramesWarning: Not enough frames in the movie (bud #119 at frame #175), requested 8, but only 6 remaining.\n",
      "  warnings.warn(NotEnoughFramesWarning(bud_id, time_id, self.num_frames, len(frame_range)))\n",
      "/Users/farzanehwork/Documents/codes/bread/src/bread/algo/lineage/_lineage.py:959: NotEnoughFramesWarning: Not enough frames in the movie (bud #120 at frame #176), requested 8, but only 5 remaining.\n",
      "  warnings.warn(NotEnoughFramesWarning(bud_id, time_id, self.num_frames, len(frame_range)))\n",
      "/Users/farzanehwork/Documents/codes/bread/src/bread/algo/lineage/_lineage.py:959: NotEnoughFramesWarning: Not enough frames in the movie (bud #121 at frame #177), requested 8, but only 4 remaining.\n",
      "  warnings.warn(NotEnoughFramesWarning(bud_id, time_id, self.num_frames, len(frame_range)))\n",
      "/Users/farzanehwork/Documents/codes/bread/src/bread/algo/lineage/_lineage.py:959: NotEnoughFramesWarning: Not enough frames in the movie (bud #122 at frame #177), requested 8, but only 4 remaining.\n",
      "  warnings.warn(NotEnoughFramesWarning(bud_id, time_id, self.num_frames, len(frame_range)))\n",
      "/Users/farzanehwork/Documents/codes/bread/src/bread/algo/lineage/_lineage.py:959: NotEnoughFramesWarning: Not enough frames in the movie (bud #123 at frame #178), requested 8, but only 3 remaining.\n",
      "  warnings.warn(NotEnoughFramesWarning(bud_id, time_id, self.num_frames, len(frame_range)))\n",
      "/Users/farzanehwork/Documents/codes/bread/src/bread/algo/lineage/_lineage.py:959: NotEnoughFramesWarning: Not enough frames in the movie (bud #124 at frame #178), requested 8, but only 3 remaining.\n",
      "  warnings.warn(NotEnoughFramesWarning(bud_id, time_id, self.num_frames, len(frame_range)))\n",
      "/Users/farzanehwork/Documents/codes/bread/src/bread/algo/lineage/_lineage.py:959: NotEnoughFramesWarning: Not enough frames in the movie (bud #125 at frame #179), requested 8, but only 2 remaining.\n",
      "  warnings.warn(NotEnoughFramesWarning(bud_id, time_id, self.num_frames, len(frame_range)))\n",
      "/Users/farzanehwork/Documents/codes/bread/src/bread/algo/lineage/_lineage.py:141: NoGuessWarning: Unable to determine parent for bud #126 in frame #180. Got error NotEnoughFramesException('Not enough frames in the movie (bud #126 at frame #180), requested 8, but only 1 remaining (need at least 2).')\n",
      "  warnings.warn(LineageGuesser.NoGuessWarning(bud_id, time_id, e))\n",
      "/Users/farzanehwork/Documents/codes/bread/src/bread/algo/lineage/_lineage.py:141: NoGuessWarning: Unable to determine parent for bud #127 in frame #180. Got error NotEnoughFramesException('Not enough frames in the movie (bud #127 at frame #180), requested 8, but only 1 remaining (need at least 2).')\n",
      "  warnings.warn(LineageGuesser.NoGuessWarning(bud_id, time_id, e))\n",
      "/Users/farzanehwork/Documents/codes/bread/src/bread/algo/lineage/_lineage.py:141: NoGuessWarning: Unable to determine parent for bud #128 in frame #180. Got error NotEnoughFramesException('Not enough frames in the movie (bud #128 at frame #180), requested 8, but only 1 remaining (need at least 2).')\n",
      "  warnings.warn(LineageGuesser.NoGuessWarning(bud_id, time_id, e))\n",
      "/Users/farzanehwork/Documents/codes/bread/src/bread/algo/lineage/_lineage.py:959: NotEnoughFramesWarning: Not enough frames in the movie (bud #37 at frame #175), requested 8, but only 6 remaining.\n",
      "  warnings.warn(NotEnoughFramesWarning(bud_id, time_id, self.num_frames, len(frame_range)))\n",
      "/Users/farzanehwork/Documents/codes/bread/src/bread/algo/lineage/_lineage.py:959: NotEnoughFramesWarning: Not enough frames in the movie (bud #38 at frame #178), requested 8, but only 3 remaining.\n",
      "  warnings.warn(NotEnoughFramesWarning(bud_id, time_id, self.num_frames, len(frame_range)))\n"
     ]
    }
   ],
   "source": [
    "args = {'fov': 0, 'bud_distance_max': 12, 'num_frames_refractory': 0, 'num_frames': 8}\n",
    "data_path = '../../../data/'\n",
    "model_path = '../algo/lineage/saved_models/best_model_with_fake_candid_thresh12_frame_num8_normalized_False.pth'\n",
    "lineage_guesses = []\n",
    "\n",
    "# find predictions for each colony\n",
    "for colony in range(0,6):\n",
    "    output_file = os.path.join(data_path, f'colony00{colony}_lineage_guess.csv')\n",
    "    segmentation_file = os.path.join(data_path, f'colony00{colony}_segmentation.h5')\n",
    "    segmentation = SegmentationFile.from_h5(segmentation_file).get_segmentation('FOV'+str(args['fov']))\n",
    "    guesser = LineageGuesserNN(\n",
    "        saved_model=model_path,\n",
    "        segmentation=segmentation,\n",
    "        nn_threshold=args['bud_distance_max'],\n",
    "        num_frames_refractory=args['num_frames_refractory'],\n",
    "        num_frames=args['num_frames'],\n",
    "    )\n",
    "\n",
    "    lineage_guess: Lineage = guesser.guess_lineage()\n",
    "    lineage_guesses.append(lineage_guess)\n",
    "    lineage_guess.save_csv(output_file)"
   ]
  },
  {
   "cell_type": "code",
   "execution_count": 7,
   "metadata": {},
   "outputs": [
    {
     "name": "stdout",
     "output_type": "stream",
     "text": [
      "accuracy for colony 0: 0.918918918918919\n",
      "accuracy for colony 1: 0.8780487804878049\n",
      "accuracy for colony 2: 0.8414634146341463\n",
      "accuracy for colony 3: 0.8543689320388349\n",
      "accuracy for colony 4: 0.9333333333333333\n"
     ]
    }
   ],
   "source": [
    "# find accuracy for each colony\n",
    "for colony, lin_guess in enumerate(lineage_guesses):\n",
    "    lineage_gt_path = os.path.join(data_path, f'colony00{colony}_lineage.csv')\n",
    "    lin_truth = Lineage.from_csv(lineage_gt_path)\n",
    "    acc = accuracy(lin_truth, lin_guess, strict=False)\n",
    "    print('accuracy for colony {}: {}'.format(colony , acc))\n",
    "    "
   ]
  },
  {
   "attachments": {},
   "cell_type": "markdown",
   "metadata": {},
   "source": [
    "# test on external dataset\n"
   ]
  },
  {
   "cell_type": "code",
   "execution_count": 15,
   "metadata": {},
   "outputs": [],
   "source": [
    "model_path = '/home/farzaneh/Documents/Bread/bread/src/bread/algo/lineage/saved_models/best_model_with_fake_candid_thresh12_frame_num8_normalized_True.pth'\n"
   ]
  },
  {
   "cell_type": "code",
   "execution_count": 16,
   "metadata": {},
   "outputs": [],
   "source": [
    "colony = 10\n",
    "\n",
    "# test the model on the external subset\n",
    "external_subset_lineage_GT_path_edited = '/home/farzaneh/Documents/TrackerTestDataset_SCerevisiae_7/subset/lineage/lineage_budlum_edited_by_code.csv'\n",
    "external_subset_segmentation_path = '/home/farzaneh/Documents/TrackerTestDataset_SCerevisiae_7/subset/segmentation2/stacked/mask_stack _edited.h5'\n",
    "segmentation = SegmentationFile.from_h5(external_subset_segmentation_path).get_segmentation('FOV'+str(args['fov']))\n",
    "output_file = '/home/farzaneh/Documents/TrackerTestDataset_SCerevisiae_7/subset/lineage/lineage_guess_nn.csv'\n",
    "\n",
    "guesser = LineageGuesserNN(\n",
    "    saved_model=model_path,\n",
    "    segmentation=segmentation,\n",
    "    nn_threshold=args['bud_distance_max'],\n",
    "    num_frames_refractory=args['num_frames_refractory'],\n",
    "    num_frames=args['num_frames'],\n",
    ")\n",
    "\n",
    "lineage_guess: Lineage = guesser.guess_lineage()\n",
    "lineage_guess.save_csv(output_file)\n"
   ]
  },
  {
   "cell_type": "code",
   "execution_count": 17,
   "metadata": {},
   "outputs": [
    {
     "name": "stdout",
     "output_type": "stream",
     "text": [
      "accuracy for colony 10: 0.8166089965397924\n"
     ]
    }
   ],
   "source": [
    "\n",
    "external_subset_lineage_GT_path_edited = '/home/farzaneh/Documents/TrackerTestDataset_SCerevisiae_7/subset/lineage/lineage_budlum_edited_by_code.csv'\n",
    "lin_truth = Lineage.from_csv(external_subset_lineage_GT_path_edited)\n",
    "acc = accuracy(lin_truth, lineage_guess, strict=False)\n",
    "print('accuracy for colony {}: {}'.format(colony , acc))\n"
   ]
  },
  {
   "cell_type": "code",
   "execution_count": null,
   "metadata": {},
   "outputs": [],
   "source": []
  }
 ],
 "metadata": {
  "kernelspec": {
   "display_name": "lineage_tracing",
   "language": "python",
   "name": "python3"
  },
  "language_info": {
   "codemirror_mode": {
    "name": "ipython",
    "version": 3
   },
   "file_extension": ".py",
   "mimetype": "text/x-python",
   "name": "python",
   "nbconvert_exporter": "python",
   "pygments_lexer": "ipython3",
   "version": "3.11.4"
  },
  "orig_nbformat": 4
 },
 "nbformat": 4,
 "nbformat_minor": 2
}

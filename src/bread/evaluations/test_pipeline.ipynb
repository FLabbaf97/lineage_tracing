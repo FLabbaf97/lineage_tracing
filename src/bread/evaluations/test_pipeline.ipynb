{
 "cells": [
  {
   "cell_type": "code",
   "execution_count": 1,
   "metadata": {},
   "outputs": [],
   "source": [
    "from bread.vis import *\n",
    "from bread.data import Features, SegmentationFile, Microscopy\n",
    "from bread.algo.lineage import LineageGuesser, LineageGuesserNN, LineageGuesserML, LineageGuesserNearestCell, accuracy\n",
    "from bread.data import Lineage\n",
    "\n",
    "import pandas as pd\n",
    "import pathlib\n",
    "import os"
   ]
  },
  {
   "attachments": {},
   "cell_type": "markdown",
   "metadata": {},
   "source": [
    "# test for colony 0 to 5 individually\n"
   ]
  },
  {
   "cell_type": "code",
   "execution_count": 10,
   "metadata": {},
   "outputs": [],
   "source": [
    "args = {'fov': 0, 'bud_distance_max': 12, 'num_frames_refractory': 0, 'num_frames': 8}\n",
    "data_path = '../../../data_edited/'\n",
    "model_path = '/home/farzaneh/Documents/Bread/bread/src/bread/algo/lineage/saved_models/best_model_with_fake_candid_thresh12_frame_num8_normalized_False.pth'\n",
    "lineage_guesses = []\n",
    "\n",
    "# find predictions for each colony\n",
    "for colony in range(0,6):\n",
    "    output_file = os.path.join(data_path, f'colony00{colony}_lineage_guess.csv')\n",
    "    segmentation_file = os.path.join(data_path, f'colony00{colony}_segmentation.h5')\n",
    "    segmentation = SegmentationFile.from_h5(segmentation_file).get_segmentation('FOV'+str(args['fov']))\n",
    "    guesser = LineageGuesserNN(\n",
    "        saved_model=model_path,\n",
    "        segmentation=segmentation,\n",
    "        nn_threshold=args['bud_distance_max'],\n",
    "        num_frames_refractory=args['num_frames_refractory'],\n",
    "        num_frames=args['num_frames'],\n",
    "    )\n",
    "\n",
    "    lineage_guess: Lineage = guesser.guess_lineage()\n",
    "    lineage_guesses.append(lineage_guess)\n",
    "    lineage_guess.save_csv(output_file)"
   ]
  },
  {
   "cell_type": "code",
   "execution_count": 11,
   "metadata": {},
   "outputs": [
    {
     "name": "stdout",
     "output_type": "stream",
     "text": [
      "accuracy for colony 0: 0.8850574712643678\n",
      "accuracy for colony 1: 0.918918918918919\n",
      "accuracy for colony 2: 0.8780487804878049\n",
      "accuracy for colony 3: 0.8414634146341463\n",
      "accuracy for colony 4: 0.8333333333333334\n",
      "accuracy for colony 5: 0.9333333333333333\n"
     ]
    }
   ],
   "source": [
    "# find accuracy for each colony\n",
    "for colony, lin_guess in enumerate(lineage_guesses):\n",
    "    lineage_gt_path = os.path.join(data_path, f'colony00{colony}_lineage_gt.csv')\n",
    "    lin_truth = Lineage.from_csv(lineage_gt_path)\n",
    "    acc = accuracy(lin_truth, lin_guess, strict=False)\n",
    "    print('accuracy for colony {}: {}'.format(colony , acc))\n",
    "    "
   ]
  },
  {
   "attachments": {},
   "cell_type": "markdown",
   "metadata": {},
   "source": [
    "# test on external dataset\n"
   ]
  },
  {
   "cell_type": "code",
   "execution_count": 15,
   "metadata": {},
   "outputs": [],
   "source": [
    "model_path = '/home/farzaneh/Documents/Bread/bread/src/bread/algo/lineage/saved_models/best_model_with_fake_candid_thresh12_frame_num8_normalized_True.pth'\n"
   ]
  },
  {
   "cell_type": "code",
   "execution_count": 16,
   "metadata": {},
   "outputs": [],
   "source": [
    "colony = 10\n",
    "\n",
    "# test the model on the external subset\n",
    "external_subset_lineage_GT_path_edited = '/home/farzaneh/Documents/TrackerTestDataset_SCerevisiae_7/subset/lineage/lineage_budlum_edited_by_code.csv'\n",
    "external_subset_segmentation_path = '/home/farzaneh/Documents/TrackerTestDataset_SCerevisiae_7/subset/segmentation2/stacked/mask_stack _edited.h5'\n",
    "segmentation = SegmentationFile.from_h5(external_subset_segmentation_path).get_segmentation('FOV'+str(args['fov']))\n",
    "output_file = '/home/farzaneh/Documents/TrackerTestDataset_SCerevisiae_7/subset/lineage/lineage_guess_nn.csv'\n",
    "\n",
    "guesser = LineageGuesserNN(\n",
    "    saved_model=model_path,\n",
    "    segmentation=segmentation,\n",
    "    nn_threshold=args['bud_distance_max'],\n",
    "    num_frames_refractory=args['num_frames_refractory'],\n",
    "    num_frames=args['num_frames'],\n",
    ")\n",
    "\n",
    "lineage_guess: Lineage = guesser.guess_lineage()\n",
    "lineage_guess.save_csv(output_file)\n"
   ]
  },
  {
   "cell_type": "code",
   "execution_count": 17,
   "metadata": {},
   "outputs": [
    {
     "name": "stdout",
     "output_type": "stream",
     "text": [
      "accuracy for colony 10: 0.8166089965397924\n"
     ]
    }
   ],
   "source": [
    "\n",
    "external_subset_lineage_GT_path_edited = '/home/farzaneh/Documents/TrackerTestDataset_SCerevisiae_7/subset/lineage/lineage_budlum_edited_by_code.csv'\n",
    "lin_truth = Lineage.from_csv(external_subset_lineage_GT_path_edited)\n",
    "acc = accuracy(lin_truth, lineage_guess, strict=False)\n",
    "print('accuracy for colony {}: {}'.format(colony , acc))\n"
   ]
  },
  {
   "cell_type": "code",
   "execution_count": null,
   "metadata": {},
   "outputs": [],
   "source": []
  }
 ],
 "metadata": {
  "kernelspec": {
   "display_name": "lineage_tracing",
   "language": "python",
   "name": "python3"
  },
  "language_info": {
   "codemirror_mode": {
    "name": "ipython",
    "version": 3
   },
   "file_extension": ".py",
   "mimetype": "text/x-python",
   "name": "python",
   "nbconvert_exporter": "python",
   "pygments_lexer": "ipython3",
   "version": "3.9.0"
  },
  "orig_nbformat": 4
 },
 "nbformat": 4,
 "nbformat_minor": 2
}
